{
 "cells": [
  {
   "cell_type": "code",
   "execution_count": 72,
   "metadata": {},
   "outputs": [],
   "source": [
    "import spacy"
   ]
  },
  {
   "cell_type": "code",
   "execution_count": 73,
   "metadata": {},
   "outputs": [],
   "source": [
    "nlp = spacy.load('en_core_web_md')"
   ]
  },
  {
   "cell_type": "code",
   "execution_count": 74,
   "metadata": {},
   "outputs": [],
   "source": [
    "def remove_stopwords(sent):\n",
    "    out = []\n",
    "    sent_ = nlp(sent)\n",
    "    for token in sent_:\n",
    "        if token.is_stop == False:\n",
    "              out.append(token.text)\n",
    "    return \" \".join(out)\n",
    "\n",
    "def remove_extrawords(sent):\n",
    "    out = []\n",
    "    sent_ = nlp(sent)\n",
    "    for token in sent_:\n",
    "        if token.pos_ not in ['ADP','NUM','SYM','SPACE','PUNCT']:\n",
    "            if token.lemma_ not in EXTRAWORDS:\n",
    "                out.append(token.text)\n",
    "    return \" \".join(out)\n",
    "\n",
    "EXTRAWORDS = ['school','education','internship','skills','technical','college','university','position','summer','institute','higher']\n",
    "\n",
    "\n",
    "import pandas as pd\n",
    "def dataset():\n",
    "    dataset = pd.read_json('Dataset//Profiles//Resume_1.json')\n",
    "    value = []\n",
    "    for _ in dataset.columns:\n",
    "        value.append(dataset[_][0])\n",
    "    return value"
   ]
  },
  {
   "cell_type": "code",
   "execution_count": 75,
   "metadata": {},
   "outputs": [],
   "source": [
    "job_des = \"\"\"\n",
    "Roles and Responsibilities: -\n",
    "Candidate applying will be working as a trainee for project\n",
    "He will be working in a team environment under a team lead\n",
    "Projects will be deadline based (typically 6 months)\n",
    "Required Qualification and skills: -\n",
    "Minimum Graduation (BCA, MCA, Btech)\n",
    "Mandatory Skill set: Net, Jquery, MS SQL Server\n",
    "Benefits\n",
    "Suitable candidate will be selected as OJT (On Job Training)\n",
    "Suitable OJT candidate will be hired as employee\n",
    "2nd & 4th Saturday off with Sunday weekly off\n",
    "Bond Terms & conditions:\n",
    "1st Month skill evaluation training on candidate's laptop(Laptop mandatory for 1st month)\n",
    "On selection, Next 5 months live industrial project training with a stipend of INR 8,000/month.\n",
    "On completion of live project training, on Job training with a stipend of INR 12,000 (for next 12 months).\n",
    "After completion of training successfully, employment confirmation for minimum period of 1 year\n",
    "One should qualify following process to get enroll:\n",
    "Objective & Subjective Type Written (15 to 20 Questions, 15-20 Minutes)\n",
    "Machine Test Practical 1 Hr,( insert update delete)\n",
    "F2F Technical HR Round.\n",
    "Candidates will be finalized when he/she will successfully qualify all initial 2 rounds and Face to Face HR-Technical\n",
    "Job Type: Full-time\n",
    "Salary: ₹8,000.00 to ₹12,000.00 /month\n",
    "Job Types: Full-time, Fresher, Walk-In\n",
    "Salary: ₹8,000.00 /month\n",
    "Education:\n",
    "Bachelor's (Preferred)\n",
    "Programming Languages needed:\n",
    ".NET (Required)\n",
    "HTML (Required)\n",
    "CSS (Required)\n",
    "JavaScript (Required)\n",
    "Industry\n",
    "Software Development\n",
    "\"\"\""
   ]
  },
  {
   "cell_type": "code",
   "execution_count": 76,
   "metadata": {},
   "outputs": [],
   "source": [
    "job_desc = \"\"\"\n",
    "Role Designation- Technology Analyst\n",
    "\n",
    "Responsibilities-\n",
    "\n",
    "Ensure effective Design, Development, Validation and support activities in line with client needs and architectural requirements., Ensure continual knowledge management., Adherence to the organizational guidelines and processes\n",
    "\n",
    "Technical and Professional Requirements- Minimum 4 years of experience required, Experience in developing RN app for ios and android platform, Knowledge and application of new features coming with React.js e.g Hooks for functional components with state, PureComponents, Suspense etc , Knowledge of RN available inbuilt UI components and the props those UI component accept, Should have worked with major node modules such as react-native-maps, @react-native/community geolocation, offline database, inbuilt AsychStorage etc, Handle build for simulator and ipa/apk for UAT/Prod release with signing. ( Release Management), Ability to setup ( using Jest, Enzyme) and write unit test for UI and redux layer\n",
    "Educational Requirements: BE , MTech\n",
    "Service Line: Unit-IL-Digital Experience\n",
    "\"\"\""
   ]
  },
  {
   "cell_type": "code",
   "execution_count": 77,
   "metadata": {},
   "outputs": [],
   "source": [
    "value = dataset()"
   ]
  },
  {
   "cell_type": "code",
   "execution_count": 107,
   "metadata": {},
   "outputs": [],
   "source": [
    "job_desc2 = \"\"\"\n",
    "Role Designation- Technology Analyst\n",
    "\n",
    "Responsibilities- Candidate should have very good analytical and communication skills.,Candidate should be a good team player.,Skillset – Java 11/ 8 , Spring 5 / 4 (Spring MVC, SpringBoot, Spring REST) , Micro services, Maven / Gradle, Junit/Mockito, SonarQube, Angular, Typescript, CSS3, HTML5, ReactJS.\n",
    "\n",
    "Technical and Professional Requirements- Minimum 3 years of experience required.,•Hands on experience on J2EE, Angular, ReactJs, Microservices ,• Knowledge of concepts in architecture and design and awareness of technology trends,•Good knowledge of technology landscape to be able to,guide team,• Working knowledge of full life cycle and various SDLC methodologies to meet project goals,• In-depth,knowledge of design issues and best practices,•Good Process knowledge and communication skills,•Ability to work within,deadlines and dynamic work environment,*Location of posting is driven by business requirements\n",
    "\"\"\""
   ]
  },
  {
   "cell_type": "code",
   "execution_count": 130,
   "metadata": {},
   "outputs": [],
   "source": [
    "job_desc3 = \"\"\"Position Overview\n",
    "\n",
    "We are seeking a Machine Learning\n",
    "Engineer with expertise in design and development of data and ML centric\n",
    "applications at scale. The right candidate would have a background in data\n",
    "engineering and requisite familiarity and experience working with Machine\n",
    "learning (ML) algorithms and Frameworks. The role is a confluence of engineering\n",
    "(programming), ML and data analysis. Knowledge of Data Science is a plus. This\n",
    "position is for the Cyber Analytics team which is part of Artificial\n",
    "Intelligence and Knowledge Management group within Morgan Stanley Wealth\n",
    "Management. The team is comprised of members located in NY-United States,\n",
    "Mumbai-India and Bengaluru-India. The team partners with various businesses and\n",
    "IT groups within firm to develop analytics and ML powered solutions aimed at cyber-security\n",
    "and vulnerability detection / assessment. The team accumulates data from a\n",
    "variety of internal and external upstream systems in order to develop statistics,\n",
    "models, dashboards and metrics for the Technology Risk team.\n",
    "\n",
    "The right candidate has\n",
    "\n",
    "Design and Build distributed, scalable, and reliable data pipelines that ingest and process data at scale and in real-time.\n",
    "Explore new data sources and data. Select appropriate datasets and their representation methods.Perform data analysis (statistical and otherwise), to derive inferences from data.\n",
    "Design machine learning systems, and oversee the platform on which the solutions would be deployed.\n",
    "Evaluate state-of-art data-centric technologies and prototype solutions to improve our architecture and platform.\n",
    "Ensure data integrity through – Data quality, validation, Governance and Transparency.\n",
    "Create ML model training, validation and hyper-parameter search pipelines.\n",
    "Production deployment and Model monitoring to ensure stable performance and adherence to standards.\n",
    "Understand data visualization to create meaningful dashboards for end-users.\n",
    "Required Experience : 4 to 8 yrs\n",
    "\n",
    "Skill Set\n",
    "Primary skills\n",
    "\n",
    "Experienced professional with 4-8 years of experience working in big data ecosystem – Hadoop, Spark, Kafka, HBase, Hive / Impala and distributed computing.\n",
    "Experience in architecture, design and implementation of data intensive applications for practical use-cases.\n",
    "Proficiency with Scala / Python and basic libraries for machine learning such as scikit-learn, pandas, deep-learning (PyTorch / Keras / Tensorflow).\n",
    "Proficiency in data analysis using complex and optimized SQL and / or above mentioned technologies.\n",
    "Expertise in visualizing large datasets in an efficient manner.\n",
    "Understanding of data structures, data modeling and software architecture.\n",
    "Ability to work in fast paced and dynamic environment.\n",
    "Good written and verbal communication skills.\n",
    "\n",
    "Good to have skills\n",
    "\n",
    "In-depth understanding of Machine Learning and Statistics, in addition to above.\n",
    "Experience in domains – Finance and Cyber-security.\n",
    "Tableau for data visualization.\n",
    "Experience working in an Agile environment.\"\"\""
   ]
  },
  {
   "cell_type": "code",
   "execution_count": 145,
   "metadata": {},
   "outputs": [],
   "source": [
    "job_desc4 = \"\"\"The position holder will be responsible for creation and implementation of a wide variety of Web-based products using PHP, JavaScript, MySQL and AJAX.\n",
    "\n",
    "Key Responsibility Areas:\n",
    "\n",
    "Create, design and modify websites to suit the requirements of a client.\n",
    "PHP Developers need to have a thorough knowledge of developing cross platforms that are compatible with Web, mobile Web applications.\n",
    "Sound knowledge & working experience on PHP & shall be hands on database and programming experience.\n",
    "Additional skill-sets of OOPS concept, PHP, LAMP technologies, XML, HTML, CSS, Javascript, JQuery, Ajax.\n",
    "Good understanding of Oracle PL/SQL\n",
    "Relevant software architecture, software development, and software testing experience\n",
    "Should have ability to work as a team with business owner, developers, designers & testers.\n",
    "Qulification:\n",
    "\n",
    "B. Tech with minimum 60%\n",
    "10th and 12th with minimum 75%\n",
    "Experience:\n",
    "\n",
    "1 -3 years of PHP development experience.\n",
    "Skill Sets/ Requirements:\n",
    "\n",
    "Experience with PHP Programming on Open Source Tools.\n",
    "Implementation of eCommerce Projects\n",
    "Good command over AJAX & Database SQL programming.\n",
    "Experience with PHP Programming on Open Source Tools\n",
    "Knowledge of PHP, HTML5, CSS, Javascript, AJAX\n",
    "Good Knowledge of object oriented programming\n",
    "Knowledge in java script libraries (Jquery, Prototype)\n",
    "Effective communication & comprehension skill\n",
    "Understand Severity and Priority needs\n",
    "Time Management\n",
    "Quick decision making\"\"\""
   ]
  },
  {
   "cell_type": "code",
   "execution_count": 131,
   "metadata": {},
   "outputs": [],
   "source": [
    "person_1 = nlp(remove_extrawords(remove_stopwords(value[0])))"
   ]
  },
  {
   "cell_type": "code",
   "execution_count": 132,
   "metadata": {},
   "outputs": [],
   "source": [
    "person_2 = nlp(remove_extrawords(remove_stopwords(value[1])))"
   ]
  },
  {
   "cell_type": "code",
   "execution_count": 133,
   "metadata": {},
   "outputs": [],
   "source": [
    "person_3 = nlp(remove_extrawords(remove_stopwords(value[2])))"
   ]
  },
  {
   "cell_type": "code",
   "execution_count": 134,
   "metadata": {},
   "outputs": [],
   "source": [
    "person_4 = nlp(remove_extrawords(remove_stopwords(value[3])))"
   ]
  },
  {
   "cell_type": "code",
   "execution_count": 135,
   "metadata": {},
   "outputs": [],
   "source": [
    "person_5 = nlp(remove_extrawords(remove_stopwords(value[4])))"
   ]
  },
  {
   "cell_type": "code",
   "execution_count": 136,
   "metadata": {},
   "outputs": [],
   "source": [
    "person_6 = nlp(remove_extrawords(remove_stopwords(value[6])))"
   ]
  },
  {
   "cell_type": "code",
   "execution_count": 146,
   "metadata": {},
   "outputs": [],
   "source": [
    "job = person_2 = nlp(remove_extrawords(remove_stopwords(job_desc4)))"
   ]
  },
  {
   "cell_type": "code",
   "execution_count": 147,
   "metadata": {},
   "outputs": [
    {
     "name": "stdout",
     "output_type": "stream",
     "text": [
      "Job Similarity :  0.9251177811595968\n"
     ]
    }
   ],
   "source": [
    "print(\"Job Similarity : \",job.similarity(person_1))"
   ]
  },
  {
   "cell_type": "code",
   "execution_count": 148,
   "metadata": {},
   "outputs": [
    {
     "name": "stdout",
     "output_type": "stream",
     "text": [
      "Job Similarity :  1.0\n"
     ]
    }
   ],
   "source": [
    "print(\"Job Similarity : \",job.similarity(person_2))"
   ]
  },
  {
   "cell_type": "code",
   "execution_count": 149,
   "metadata": {},
   "outputs": [
    {
     "name": "stdout",
     "output_type": "stream",
     "text": [
      "Job Similarity :  0.9233560127428809\n"
     ]
    }
   ],
   "source": [
    "print(\"Job Similarity : \",job.similarity(person_3))"
   ]
  },
  {
   "cell_type": "code",
   "execution_count": 150,
   "metadata": {},
   "outputs": [
    {
     "name": "stdout",
     "output_type": "stream",
     "text": [
      "Job Similarity :  0.9107026352201816\n"
     ]
    }
   ],
   "source": [
    "print(\"Job Similarity : \",job.similarity(person_4))"
   ]
  },
  {
   "cell_type": "code",
   "execution_count": 151,
   "metadata": {},
   "outputs": [
    {
     "name": "stdout",
     "output_type": "stream",
     "text": [
      "Job Similarity :  0.9274612243192196\n"
     ]
    }
   ],
   "source": [
    "print(\"Job Similarity : \",job.similarity(person_5))"
   ]
  },
  {
   "cell_type": "code",
   "execution_count": 152,
   "metadata": {},
   "outputs": [
    {
     "name": "stdout",
     "output_type": "stream",
     "text": [
      "Job Similarity :  0.8529529773294496\n"
     ]
    }
   ],
   "source": [
    "print(\"Job Similarity : \",job.similarity(person_6))"
   ]
  },
  {
   "cell_type": "code",
   "execution_count": 144,
   "metadata": {},
   "outputs": [
    {
     "name": "stdout",
     "output_type": "stream",
     "text": [
      "Akhil Yadav Polemaina\n",
      "Hyderabad, Telangana - Email me on Indeed: indeed.com/r/Akhil-Yadav-Polemaina/\n",
      "f6931801c51c63b1\n",
      "\n",
      "● Senior System Engineer at Infosys with 3.2 years of experience in software development and\n",
      "Maintenance.\n",
      "● Maintained data processing using mainframe technology for multiple front end applications of\n",
      "Walmart Retail Link platform and ensured on-time deliverables.\n",
      "● Worked on automating the uses cases to reduce manual effort in solving repeating incidents\n",
      "using Service Now orchestration.\n",
      "● Possess good analytical, logical ability and systematic approach to problem analysis, strong\n",
      "debugging and troubleshooting skills.\n",
      "● Good exposure to Retail domain.\n",
      "\n",
      "Willing to relocate to: hyderbad, Telangana\n",
      "\n",
      "WORK EXPERIENCE\n",
      "\n",
      "Senior Systems Engineer\n",
      "\n",
      "Infosys Limited -  Hyderabad, Telangana -\n",
      "\n",
      "January 2015 to Present\n",
      "\n",
      "● Working on all the Major and Minor Enhancement requests as part of Maintenance and Support\n",
      "activities\n",
      "● Identifying and fixing all the major defects in the applications, perform root cause analysis for\n",
      "production issues\n",
      "● Being a subject matter expert, involved in multiple Knowledge transfer and knowledge sharing\n",
      "sessions with the client\n",
      "● Leading a peer group and taking end to end responsibilities for all the critical issues/\n",
      "enhancements.\n",
      "● Identifying the use cases which can be automated using Service Now Orchestration\n",
      "● Creating workflows to automate various tasks which involved manual intervention\n",
      "● Direct interaction with the client on various business impacting issues on a daily basis\n",
      "● Setting up Weekly Status Review meetings and Code Review meetings with the client\n",
      "\n",
      "Senior Systems Engineer\n",
      "\n",
      "Infosys Limited -  Hyderabad, Telangana -\n",
      "\n",
      "January 2015 to Present\n",
      "\n",
      "Team Size # 5\n",
      "Project Objective:\n",
      "Providing end to end Maintenance and Support activity for data processing of the most critical and\n",
      "important Web portal 'Retail Link' along with over 40 applications used daily by all the Suppliers\n",
      "and Business users of Walmart, the largest retailer in the world. Retail link is a portal which hosts\n",
      "100's of applications developed across technologies for the suppliers which help them to carry\n",
      "on day-to-day activities right from on boarding to tracking their sales. This involves supporting\n",
      "\n",
      "https://www.indeed.com/r/Akhil-Yadav-Polemaina/f6931801c51c63b1?isid=rex-download&ikw=download-top&co=IN\n",
      "https://www.indeed.com/r/Akhil-Yadav-Polemaina/f6931801c51c63b1?isid=rex-download&ikw=download-top&co=IN\n",
      "\n",
      "\n",
      "various Decision Support System reports which helps the higher management to take business\n",
      "critical decisions.\n",
      "\n",
      "Responsibilities:\n",
      "● Working on all the Major and Minor Enhancement requests as part of Maintenance and Support\n",
      "activities\n",
      "● Identifying and fixing all the major defects in the applications, perform root cause analysis for\n",
      "production issues\n",
      "● Being a subject matter expert, involved in multiple Knowledge transfer and knowledge sharing\n",
      "sessions with the client\n",
      "● Leading a peer group and taking end to end responsibilities for all the critical issues/\n",
      "enhancements.\n",
      "● Identifying the use cases which can be automated using Service Now Orchestration\n",
      "● Creating workflows to automate various tasks which involved manual intervention\n",
      "● Direct interaction with the client on various business impacting issues on a daily basis\n",
      "● Setting up Weekly Status Review meetings and Code Review meetings with the client\n",
      "\n",
      "EDUCATION\n",
      "\n",
      "Electrical and Electronics Engineering\n",
      "\n",
      "Anurag College of Engineering (Jntuh)\n",
      "\n",
      "SKILLS\n",
      "\n",
      "servicenow (1 year), Mainframe (3 years), cobol (3 years), Jcl (3 years), Teradata (3 years)\n",
      "\n",
      "ADDITIONAL INFORMATION\n",
      "\n",
      "Technical Skills\n",
      "• Domain - Retail\n",
      "• Technology - Mainframe (COBOL, JCL, DB2, Teradata), Service now.\n",
      "• Operating System - Mainframe (z/OS)\n",
      "• Database - DB2, SQL, Teradata.\n",
      "• Utilities - FILE-AID, IDCAMS, DFSORT basics, LIBRARIAN, FTP/SFTP, CA-7 basics.\n",
      "• Tools - Query Management Tool (QMF), SQL Assistant, Service now, Remedy.\n",
      "\n",
      "Key Strengths:\n",
      "● Effective Communication Skills and Zeal to learn.\n",
      "● Flexibility and Adaptability.\n",
      "● Good Leadership Qualities.\n",
      "● Analytical and Problem Solving Skills.\n",
      "\n",
      "Achievements:\n",
      "● Received STAR award for working on various system improvement and automation activities\n",
      "● Received multiple INSTA awards for my performance in the projects worked\n"
     ]
    }
   ],
   "source": [
    "print(value[1])"
   ]
  },
  {
   "cell_type": "code",
   "execution_count": 153,
   "metadata": {},
   "outputs": [
    {
     "name": "stdout",
     "output_type": "stream",
     "text": [
      "Anvitha Rao\n",
      "Automation developer\n",
      "\n",
      "- Email me on Indeed: indeed.com/r/Anvitha-Rao/9d6acc68cc30c71c\n",
      "\n",
      "Seeking a software development internship position for Summer 2018 that utilizes my technical\n",
      "skills, education and passion for\n",
      "solving interesting problems as a software professional.\n",
      "\n",
      "Willing to relocate: Anywhere\n",
      "\n",
      "WORK EXPERIENCE\n",
      "\n",
      "Automation developer\n",
      "\n",
      "SAP Labs -  Bengaluru, Karnataka -\n",
      "\n",
      "August 2016 to August 2017\n",
      "\n",
      "Worked as an automation developer in the development of cloud based Human capital\n",
      "management System and\n",
      "Integration frameworks Dell Boomi and SAP HANA Cloud Platform Integration.\n",
      "● Development of automation framework using Java Selenium and RestFul API's for payroll\n",
      "projects.\n",
      "● Collaborating with customers on migrating Payroll projects to SAP HANA Cloud Platform\n",
      "Integration.\n",
      "● Involved in regression, unity, functionality, performance, sanity and acceptance test driven\n",
      "development process.\n",
      "\n",
      "Intern\n",
      "\n",
      "SAP Labs -  Bengaluru, Karnataka -\n",
      "\n",
      "February 2016 to July 2016\n",
      "\n",
      "Worked on migrating Business intelligence tool, Universe Design Tool in Visual Studio using C++.\n",
      "● Automation of test cases for identifying operations supported by databases using Java.\n",
      "● Tools: Universe Design Tool, Information Design Tool, Webi and Perforce.\n",
      "\n",
      "Projects:\n",
      "GeoSpark Integrated with Apache Hadoop\n",
      "● Identifies top 50 pick up points in New York city based on distributed New York taxi data using\n",
      "Apache Spark and Scala.\n",
      "Iaas Implementation: Cloud application for Image Recognition\n",
      "● This project uses Amazon S3, SQS and EC2 instances to provide Image recognition service to\n",
      "users by implementing load\n",
      "balancing and web services.\n",
      "Spam Detection\n",
      "● Identifying spam messages using Natural Language processing techniques in python.\n",
      "Analysis of Financial Data\n",
      "\n",
      "https://www.indeed.com/r/Anvitha-Rao/9d6acc68cc30c71c?isid=rex-download&ikw=download-top&co=IN\n",
      "\n",
      "\n",
      "● Exploratory data analysis of stock prices using various data visualization techniques in pandas\n",
      "and d3.js\n",
      "Effective prediction and prevention of air pollution caused due to automobiles using IoT and data\n",
      "analytics techniques\n",
      "● Analyzes pollutants at different geographical locations and suggests a least polluted route on\n",
      "an android application.\n",
      "● Co-authored a paper --Ref link: http://www.ijrcct.org/index.php/ojs/article/view/1416\n",
      "\n",
      "EDUCATION\n",
      "\n",
      "Masters in Computer Science\n",
      "\n",
      "Arizona State University -  Tempe, AZ\n",
      "\n",
      "September 2019\n",
      "\n",
      "Bachelor of Engineering in Computer Science\n",
      "\n",
      "M S Ramaiah Institute of Technology -  Bengaluru, Karnataka\n",
      "\n",
      "September 2012 to June 2016\n",
      "\n",
      "SKILLS\n",
      "\n",
      "JAVA (1 year), C++ (Less than 1 year), Hadoop (Less than 1 year), HADOOP (Less than 1 year),\n",
      "CSS (Less than 1 year)\n",
      "\n",
      "LINKS\n",
      "\n",
      "https://www.linkedin.com/in/anvitha-d-rao-65a068a7\n",
      "\n",
      "ADDITIONAL INFORMATION\n",
      "\n",
      "Technical Skills:\n",
      "Programming Languages: C, C++, HTML/CSS, Java, Python, Javascript\n",
      "\n",
      "Technologies: IoT, MySQL, PostgreSQL, D3js, Hadoop and Spark, Gephi\n",
      "\n",
      "https://www.linkedin.com/in/anvitha-d-rao-65a068a7\n"
     ]
    }
   ],
   "source": [
    "print(value[5])"
   ]
  },
  {
   "cell_type": "code",
   "execution_count": null,
   "metadata": {},
   "outputs": [],
   "source": []
  }
 ],
 "metadata": {
  "kernelspec": {
   "display_name": "Python 3",
   "language": "python",
   "name": "python3"
  },
  "language_info": {
   "codemirror_mode": {
    "name": "ipython",
    "version": 3
   },
   "file_extension": ".py",
   "mimetype": "text/x-python",
   "name": "python",
   "nbconvert_exporter": "python",
   "pygments_lexer": "ipython3",
   "version": "3.7.4"
  }
 },
 "nbformat": 4,
 "nbformat_minor": 4
}

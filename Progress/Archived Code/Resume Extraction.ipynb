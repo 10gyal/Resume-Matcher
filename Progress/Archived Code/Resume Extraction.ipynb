{
 "cells": [
  {
   "cell_type": "code",
   "execution_count": 1,
   "metadata": {},
   "outputs": [],
   "source": [
    "import spacy\n",
    "from spacy.matcher import Matcher, PhraseMatcher\n",
    "import pandas as pd\n",
    "from spacy import displacy"
   ]
  },
  {
   "cell_type": "code",
   "execution_count": 2,
   "metadata": {},
   "outputs": [],
   "source": [
    "nlp = spacy.load('en_core_web_md')"
   ]
  },
  {
   "cell_type": "code",
   "execution_count": 3,
   "metadata": {},
   "outputs": [],
   "source": [
    "resumes = pd.read_json('../Dataset/Resume_1.json')"
   ]
  },
  {
   "cell_type": "code",
   "execution_count": 4,
   "metadata": {},
   "outputs": [],
   "source": [
    "resume_1 = resumes['Person 1'][0]\n",
    "resume_2 = resumes['Person 2'][0]\n",
    "resume_3 = resumes['Person 3'][0]\n",
    "resume_4 = resumes['Person 4'][0]\n",
    "resume_5 = resumes['Person 5'][0]\n",
    "resume_6 = resumes['Person 6'][0]"
   ]
  },
  {
   "cell_type": "code",
   "execution_count": 5,
   "metadata": {},
   "outputs": [],
   "source": [
    "sentence_1 = nlp(resume_1)\n",
    "sentence_2 = nlp(resume_2)\n",
    "sentence_3 = nlp(resume_3)\n",
    "sentence_4 = nlp(resume_4)\n",
    "sentence_5 = nlp(resume_5)\n",
    "sentence_6 = nlp(resume_6)"
   ]
  },
  {
   "cell_type": "code",
   "execution_count": 6,
   "metadata": {},
   "outputs": [],
   "source": [
    "def get_relevant_data(sentence):\n",
    "    Date = []\n",
    "    Person = []\n",
    "    Orgs = []\n",
    "    for word in sentence.ents:\n",
    "        if word.label_ in ['DATE','TIME','CARDINAL','ORDINAL']:\n",
    "            Date.append(word)\n",
    "        elif word.label_ in ['ORG']:\n",
    "            Orgs.append(word)\n",
    "    print(\"Date : \", Date,\"\\n Person : \",Person,\"\\n Orgs : \",Orgs)"
   ]
  },
  {
   "cell_type": "code",
   "execution_count": 7,
   "metadata": {},
   "outputs": [
    {
     "name": "stdout",
     "output_type": "stream",
     "text": [
      "Date :  [November 2017, August 2013 to June 2017\n",
      "\n",
      "12th, April 2011 to March 2013, 10th, April 2001 to March 2011, Less than 1 year, Less than 1 year, Less than 1 year, Less than 1 year, Less than 1 year] \n",
      " Person :  [] \n",
      " Orgs :  [Bengaluru, Application Development Associate, B.E, Information, B.v.b college of engineering and technology -, Database Management, Java, Java, •]\n"
     ]
    }
   ],
   "source": [
    "get_relevant_data(sentence_1)"
   ]
  },
  {
   "cell_type": "markdown",
   "metadata": {},
   "source": [
    "## Required\n",
    "\n",
    "- Create a corpus of all Degree and Try to Extract from them, and mark.\n",
    "- Create a pattern to match all the colleges and schools and try to extract them."
   ]
  },
  {
   "cell_type": "code",
   "execution_count": 8,
   "metadata": {},
   "outputs": [],
   "source": [
    "pattern_school_1 = [{},{},{'LOWER':'School'}]\n",
    "pattern_school_2 = [{},{},{'LOWER':'school'}]\n",
    "pattern_school_3 = [{},{'Lower':'Vidyalaya'},{}]"
   ]
  },
  {
   "cell_type": "code",
   "execution_count": 9,
   "metadata": {},
   "outputs": [],
   "source": [
    "pattern_college_1 = [{},{'Text':'Institute of Technology'}]\n",
    "pattern_college_2 = [{},{'Text':'Institute of Technology and Management'}]\n",
    "pattern_college_3 = [{},{},{'Text':'College'}]\n",
    "pattern_college_4 = [{},{},{'Lower':'Engineering'}]\n",
    "pattern_college_4 = [{},{},{'Text':'Engineering'}]"
   ]
  },
  {
   "cell_type": "code",
   "execution_count": 10,
   "metadata": {},
   "outputs": [],
   "source": [
    "pattern_university_1 = [{}, {}, {'Lower':'University'}]\n",
    "pattern_university_2 = [{}, {'Lower':'Techinal'}, {'Lower':\"University\"}]\n",
    "# pattern_university_3 = [{}, {}, {}]\n",
    "# pattern_university_4 = [{}, {}, {}]\n"
   ]
  },
  {
   "cell_type": "code",
   "execution_count": 11,
   "metadata": {},
   "outputs": [],
   "source": [
    "matcher = Matcher(nlp.vocab)"
   ]
  },
  {
   "cell_type": "code",
   "execution_count": 12,
   "metadata": {},
   "outputs": [],
   "source": [
    "matcher.add('SMTH',None,pattern_school_1)\n",
    "matcher.add('SMTH',None,pattern_school_2)\n",
    "matcher.add('SMTH',None,pattern_school_3)\n",
    "matcher.add('SMTH',None,pattern_college_1)\n",
    "matcher.add('SMTH',None,pattern_college_2)\n",
    "matcher.add('SMTH',None,pattern_college_3)\n",
    "matcher.add('SMTH',None,pattern_college_4)\n"
   ]
  },
  {
   "cell_type": "code",
   "execution_count": 13,
   "metadata": {},
   "outputs": [],
   "source": [
    "matches = matcher(sentence_2)"
   ]
  },
  {
   "cell_type": "code",
   "execution_count": 14,
   "metadata": {},
   "outputs": [
    {
     "data": {
      "text/plain": [
       "[(9191480936432593395, 568, 571),\n",
       " (9191480936432593395, 571, 574),\n",
       " (9191480936432593395, 573, 576)]"
      ]
     },
     "execution_count": 14,
     "metadata": {},
     "output_type": "execute_result"
    }
   ],
   "source": [
    "matches"
   ]
  },
  {
   "cell_type": "code",
   "execution_count": 15,
   "metadata": {},
   "outputs": [
    {
     "name": "stdout",
     "output_type": "stream",
     "text": [
      "9191480936432593395 SMTH 568 571 and Electronics Engineering\n",
      "9191480936432593395 SMTH 571 574 \n",
      "\n",
      "Anurag College\n",
      "9191480936432593395 SMTH 573 576 College of Engineering\n"
     ]
    }
   ],
   "source": [
    "for match_id, start, end in matches:\n",
    "    string_id = nlp.vocab.strings[match_id]  # Get string representation\n",
    "    span = sentence_2[start:end]  # The matched span\n",
    "    print(match_id, string_id, start, end, span.text)"
   ]
  },
  {
   "cell_type": "code",
   "execution_count": 16,
   "metadata": {},
   "outputs": [],
   "source": [
    "# create better patterns for college"
   ]
  },
  {
   "cell_type": "code",
   "execution_count": 17,
   "metadata": {},
   "outputs": [],
   "source": [
    "# create a pattern just for getting the colleges and institutes\n",
    "# it should take an argument and should return all the possible values"
   ]
  },
  {
   "cell_type": "code",
   "execution_count": 18,
   "metadata": {},
   "outputs": [],
   "source": [
    "# similarrly all the other desired data should be packed like this only, and the sa,"
   ]
  },
  {
   "cell_type": "code",
   "execution_count": 19,
   "metadata": {},
   "outputs": [
    {
     "name": "stdout",
     "output_type": "stream",
     "text": [
      "Akhil Yadav Polemaina\n",
      "Hyderabad, Telangana - Email me on Indeed: indeed.com/r/Akhil-Yadav-Polemaina/\n",
      "f6931801c51c63b1\n",
      "\n",
      "● Senior System Engineer at Infosys with 3.2 years of experience in software development and\n",
      "Maintenance.\n",
      "● Maintained data processing using mainframe technology for multiple front end applications of\n",
      "Walmart Retail Link platform and ensured on-time deliverables.\n",
      "● Worked on automating the uses cases to reduce manual effort in solving repeating incidents\n",
      "using Service Now orchestration.\n",
      "● Possess good analytical, logical ability and systematic approach to problem analysis, strong\n",
      "debugging and troubleshooting skills.\n",
      "● Good exposure to Retail domain.\n",
      "\n",
      "Willing to relocate to: hyderbad, Telangana\n",
      "\n",
      "WORK EXPERIENCE\n",
      "\n",
      "Senior Systems Engineer\n",
      "\n",
      "Infosys Limited -  Hyderabad, Telangana -\n",
      "\n",
      "January 2015 to Present\n",
      "\n",
      "● Working on all the Major and Minor Enhancement requests as part of Maintenance and Support\n",
      "activities\n",
      "● Identifying and fixing all the major defects in the applications, perform root cause analysis for\n",
      "production issues\n",
      "● Being a subject matter expert, involved in multiple Knowledge transfer and knowledge sharing\n",
      "sessions with the client\n",
      "● Leading a peer group and taking end to end responsibilities for all the critical issues/\n",
      "enhancements.\n",
      "● Identifying the use cases which can be automated using Service Now Orchestration\n",
      "● Creating workflows to automate various tasks which involved manual intervention\n",
      "● Direct interaction with the client on various business impacting issues on a daily basis\n",
      "● Setting up Weekly Status Review meetings and Code Review meetings with the client\n",
      "\n",
      "Senior Systems Engineer\n",
      "\n",
      "Infosys Limited -  Hyderabad, Telangana -\n",
      "\n",
      "January 2015 to Present\n",
      "\n",
      "Team Size # 5\n",
      "Project Objective:\n",
      "Providing end to end Maintenance and Support activity for data processing of the most critical and\n",
      "important Web portal 'Retail Link' along with over 40 applications used daily by all the Suppliers\n",
      "and Business users of Walmart, the largest retailer in the world. Retail link is a portal which hosts\n",
      "100's of applications developed across technologies for the suppliers which help them to carry\n",
      "on day-to-day activities right from on boarding to tracking their sales. This involves supporting\n",
      "\n",
      "https://www.indeed.com/r/Akhil-Yadav-Polemaina/f6931801c51c63b1?isid=rex-download&ikw=download-top&co=IN\n",
      "https://www.indeed.com/r/Akhil-Yadav-Polemaina/f6931801c51c63b1?isid=rex-download&ikw=download-top&co=IN\n",
      "\n",
      "\n",
      "various Decision Support System reports which helps the higher management to take business\n",
      "critical decisions.\n",
      "\n",
      "Responsibilities:\n",
      "● Working on all the Major and Minor Enhancement requests as part of Maintenance and Support\n",
      "activities\n",
      "● Identifying and fixing all the major defects in the applications, perform root cause analysis for\n",
      "production issues\n",
      "● Being a subject matter expert, involved in multiple Knowledge transfer and knowledge sharing\n",
      "sessions with the client\n",
      "● Leading a peer group and taking end to end responsibilities for all the critical issues/\n",
      "enhancements.\n",
      "● Identifying the use cases which can be automated using Service Now Orchestration\n",
      "● Creating workflows to automate various tasks which involved manual intervention\n",
      "● Direct interaction with the client on various business impacting issues on a daily basis\n",
      "● Setting up Weekly Status Review meetings and Code Review meetings with the client\n",
      "\n",
      "EDUCATION\n",
      "\n",
      "Electrical and Electronics Engineering\n",
      "\n",
      "Anurag College of Engineering (Jntuh)\n",
      "\n",
      "SKILLS\n",
      "\n",
      "servicenow (1 year), Mainframe (3 years), cobol (3 years), Jcl (3 years), Teradata (3 years)\n",
      "\n",
      "ADDITIONAL INFORMATION\n",
      "\n",
      "Technical Skills\n",
      "• Domain - Retail\n",
      "• Technology - Mainframe (COBOL, JCL, DB2, Teradata), Service now.\n",
      "• Operating System - Mainframe (z/OS)\n",
      "• Database - DB2, SQL, Teradata.\n",
      "• Utilities - FILE-AID, IDCAMS, DFSORT basics, LIBRARIAN, FTP/SFTP, CA-7 basics.\n",
      "• Tools - Query Management Tool (QMF), SQL Assistant, Service now, Remedy.\n",
      "\n",
      "Key Strengths:\n",
      "● Effective Communication Skills and Zeal to learn.\n",
      "● Flexibility and Adaptability.\n",
      "● Good Leadership Qualities.\n",
      "● Analytical and Problem Solving Skills.\n",
      "\n",
      "Achievements:\n",
      "● Received STAR award for working on various system improvement and automation activities\n",
      "● Received multiple INSTA awards for my performance in the projects worked\n"
     ]
    }
   ],
   "source": [
    "print(resume_2)"
   ]
  },
  {
   "cell_type": "code",
   "execution_count": 20,
   "metadata": {},
   "outputs": [],
   "source": [
    "pattern_college_sp = [{}, {}, {}, {\"Lower\":\"engineering\"}, {}, {}]"
   ]
  },
  {
   "cell_type": "code",
   "execution_count": 21,
   "metadata": {},
   "outputs": [],
   "source": [
    "matcher.add(\"Special Pattern\", None, pattern_college_sp)"
   ]
  },
  {
   "cell_type": "code",
   "execution_count": 22,
   "metadata": {},
   "outputs": [],
   "source": [
    "matches = matcher(sentence_2)"
   ]
  },
  {
   "cell_type": "code",
   "execution_count": 23,
   "metadata": {},
   "outputs": [
    {
     "data": {
      "text/plain": [
       "[(9191480936432593395, 568, 571),\n",
       " (17432370962519361178, 567, 573),\n",
       " (9191480936432593395, 571, 574),\n",
       " (9191480936432593395, 573, 576),\n",
       " (17432370962519361178, 572, 578)]"
      ]
     },
     "execution_count": 23,
     "metadata": {},
     "output_type": "execute_result"
    }
   ],
   "source": [
    "matches"
   ]
  },
  {
   "cell_type": "code",
   "execution_count": 24,
   "metadata": {},
   "outputs": [
    {
     "name": "stdout",
     "output_type": "stream",
     "text": [
      "9191480936432593395 SMTH 568 571 and Electronics Engineering\n",
      "17432370962519361178 Special Pattern 567 573 Electrical and Electronics Engineering\n",
      "\n",
      "Anurag\n",
      "9191480936432593395 SMTH 571 574 \n",
      "\n",
      "Anurag College\n",
      "9191480936432593395 SMTH 573 576 College of Engineering\n",
      "17432370962519361178 Special Pattern 572 578 Anurag College of Engineering (Jntuh\n"
     ]
    }
   ],
   "source": [
    "for match_id, start, end in matches:\n",
    "    string_id = nlp.vocab.strings[match_id]  # Get string representation\n",
    "    span = sentence_2[start:end]  # The matched span\n",
    "    print(match_id, string_id, start, end, span.text)"
   ]
  },
  {
   "cell_type": "code",
   "execution_count": null,
   "metadata": {},
   "outputs": [],
   "source": []
  },
  {
   "cell_type": "code",
   "execution_count": null,
   "metadata": {},
   "outputs": [],
   "source": []
  }
 ],
 "metadata": {
  "kernelspec": {
   "display_name": "Python 3",
   "language": "python",
   "name": "python3"
  },
  "language_info": {
   "codemirror_mode": {
    "name": "ipython",
    "version": 3
   },
   "file_extension": ".py",
   "mimetype": "text/x-python",
   "name": "python",
   "nbconvert_exporter": "python",
   "pygments_lexer": "ipython3",
   "version": "3.8.2"
  }
 },
 "nbformat": 4,
 "nbformat_minor": 4
}

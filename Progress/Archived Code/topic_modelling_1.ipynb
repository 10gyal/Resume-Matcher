{
 "cells": [
  {
   "cell_type": "code",
   "execution_count": 12,
   "metadata": {},
   "outputs": [],
   "source": [
    "import gensim\n",
    "import gensim.corpora as corpora\n",
    "from gensim.utils import simple_preprocess\n",
    "from gensim.models import CoherenceModel\n",
    "import re\n",
    "import numpy as np\n",
    "import pandas as pd\n",
    "from pprint import pprint"
   ]
  },
  {
   "cell_type": "code",
   "execution_count": 13,
   "metadata": {},
   "outputs": [],
   "source": [
    "import Distill"
   ]
  },
  {
   "cell_type": "code",
   "execution_count": 14,
   "metadata": {},
   "outputs": [],
   "source": [
    "from texts import text_2"
   ]
  },
  {
   "cell_type": "code",
   "execution_count": 15,
   "metadata": {},
   "outputs": [],
   "source": [
    "text = Distill.remove_stopwords(Distill.tokenize(text_2))"
   ]
  },
  {
   "cell_type": "code",
   "execution_count": 16,
   "metadata": {},
   "outputs": [],
   "source": [
    "text = Distill.remove_tags(text)"
   ]
  },
  {
   "cell_type": "code",
   "execution_count": 17,
   "metadata": {},
   "outputs": [],
   "source": [
    "text = Distill.lemmatize(text)"
   ]
  },
  {
   "cell_type": "code",
   "execution_count": 18,
   "metadata": {},
   "outputs": [],
   "source": [
    "# text = Distill._to_string(text)"
   ]
  },
  {
   "cell_type": "code",
   "execution_count": 22,
   "metadata": {},
   "outputs": [],
   "source": [
    "tokens_ = []\n",
    "for a in text:\n",
    "    tokens_.append([a])"
   ]
  },
  {
   "cell_type": "code",
   "execution_count": 24,
   "metadata": {},
   "outputs": [],
   "source": [
    "# tokens_"
   ]
  },
  {
   "cell_type": "code",
   "execution_count": 26,
   "metadata": {},
   "outputs": [],
   "source": [
    "id2word = corpora.Dictionary(tokens_)"
   ]
  },
  {
   "cell_type": "code",
   "execution_count": 27,
   "metadata": {},
   "outputs": [],
   "source": [
    "def to_token(List):\n",
    "    # takes a simple list and breaks it into tokens of the form [[],[],[]]\n",
    "    token = [[a] for a in List]\n",
    "    return token"
   ]
  },
  {
   "cell_type": "code",
   "execution_count": 28,
   "metadata": {},
   "outputs": [],
   "source": [
    "saas = to_token(text)"
   ]
  },
  {
   "cell_type": "code",
   "execution_count": 30,
   "metadata": {},
   "outputs": [],
   "source": [
    "# saas"
   ]
  },
  {
   "cell_type": "code",
   "execution_count": 31,
   "metadata": {},
   "outputs": [],
   "source": [
    "corpus = [id2word.doc2bow(text) for text in tokens_]"
   ]
  },
  {
   "cell_type": "code",
   "execution_count": 39,
   "metadata": {},
   "outputs": [],
   "source": [
    "# Human readable format of corpus (term-frequency)\n",
    "# [[(id2word[id], freq) for id, freq in cp] for cp in corpus[:]]"
   ]
  },
  {
   "cell_type": "code",
   "execution_count": 40,
   "metadata": {},
   "outputs": [],
   "source": [
    "# corpus[:]"
   ]
  },
  {
   "cell_type": "code",
   "execution_count": 41,
   "metadata": {},
   "outputs": [],
   "source": [
    "# Build LDA model\n",
    "lda_model = gensim.models.ldamodel.LdaModel(corpus=corpus,\n",
    "                                           id2word=id2word,\n",
    "                                           num_topics=20, \n",
    "                                           random_state=100,\n",
    "                                           update_every=1,\n",
    "                                           chunksize=100,\n",
    "                                           passes=10,\n",
    "                                           alpha='auto',\n",
    "                                           per_word_topics=True)"
   ]
  },
  {
   "cell_type": "code",
   "execution_count": 42,
   "metadata": {},
   "outputs": [
    {
     "name": "stdout",
     "output_type": "stream",
     "text": [
      "[(0,\n",
      "  '0.087*\"property\" + 0.046*\"brake\" + 0.046*\"lead\" + 0.004*\"commonwealth\" + '\n",
      "  '0.004*\"compensate\" + 0.004*\"design\" + 0.004*\"decade\" + 0.004*\"range\" + '\n",
      "  '0.004*\"local\" + 0.004*\"mean\"'),\n",
      " (1,\n",
      "  '0.160*\"damage\" + 0.040*\"reach\" + 0.040*\"expose\" + 0.040*\"contaminate\" + '\n",
      "  '0.004*\"range\" + 0.004*\"assessment\" + 0.004*\"design\" + 0.004*\"public\" + '\n",
      "  '0.004*\"mean\" + 0.004*\"reimbursement\"'),\n",
      " (2,\n",
      "  '0.196*\"party\" + 0.070*\"private\" + 0.037*\"caustic\" + 0.037*\"action\" + '\n",
      "  '0.004*\"mean\" + 0.004*\"design\" + 0.004*\"public\" + 0.004*\"assessment\" + '\n",
      "  '0.004*\"commonwealth\" + 0.004*\"range\"'),\n",
      " (3,\n",
      "  '0.120*\"habitat\" + 0.044*\"agree\" + 0.044*\"fabric\" + 0.004*\"party\" + '\n",
      "  '0.004*\"compensate\" + 0.004*\"design\" + 0.004*\"public\" + 0.004*\"assessment\" + '\n",
      "  '0.004*\"commonwealth\" + 0.004*\"encourage\"'),\n",
      " (4,\n",
      "  '0.313*\"site\" + 0.143*\"ecological\" + 0.052*\"predecessor\" + 0.003*\"mean\" + '\n",
      "  '0.003*\"fws\" + 0.003*\"range\" + 0.003*\"compensate\" + 0.003*\"commonwealth\" + '\n",
      "  '0.003*\"reimbursement\" + 0.003*\"assessment\"'),\n",
      " (5,\n",
      "  '0.194*\"trustee\" + 0.037*\"hazardous\" + 0.037*\"well\" + 0.037*\"perform\" + '\n",
      "  '0.037*\"doi\" + 0.004*\"settlement\" + 0.004*\"federal\" + 0.004*\"commonwealth\" + '\n",
      "  '0.004*\"mean\" + 0.004*\"range\"'),\n",
      " (6,\n",
      "  '0.052*\"pay\" + 0.005*\"owner\" + 0.005*\"resource\" + 0.005*\"mean\" + '\n",
      "  '0.005*\"design\" + 0.005*\"range\" + 0.005*\"compensate\" + 0.005*\"fws\" + '\n",
      "  '0.005*\"commonwealth\" + 0.005*\"reimbursement\"'),\n",
      " (7,\n",
      "  '0.204*\"federal\" + 0.038*\"liability\" + 0.038*\"century\" + 0.038*\"current\" + '\n",
      "  '0.004*\"range\" + 0.004*\"mean\" + 0.004*\"design\" + 0.004*\"assessment\" + '\n",
      "  '0.004*\"commonwealth\" + 0.004*\"fws\"'),\n",
      " (8,\n",
      "  '0.075*\"owner\" + 0.075*\"lining\" + 0.075*\"asbestos\" + 0.039*\"former\" + '\n",
      "  '0.039*\"clean\" + 0.004*\"compensate\" + 0.004*\"public\" + 0.004*\"assessment\" + '\n",
      "  '0.004*\"commonwealth\" + 0.004*\"design\"'),\n",
      " (9,\n",
      "  '0.175*\"state\" + 0.113*\"portion\" + 0.036*\"business\" + 0.036*\"involve\" + '\n",
      "  '0.004*\"private\" + 0.004*\"compensate\" + 0.004*\"design\" + 0.004*\"public\" + '\n",
      "  '0.004*\"mean\" + 0.004*\"encourage\"'),\n",
      " (10,\n",
      "  '0.110*\"industrial\" + 0.090*\"require\" + 0.040*\"announce\" + 0.040*\"water\" + '\n",
      "  '0.004*\"portion\" + 0.004*\"design\" + 0.004*\"compensate\" + 0.004*\"decade\" + '\n",
      "  '0.004*\"range\" + 0.004*\"commonwealth\"'),\n",
      " (11,\n",
      "  '0.048*\"operation\" + 0.048*\"solution\" + 0.048*\"claim\" + 0.005*\"include\" + '\n",
      "  '0.005*\"site\" + 0.005*\"today\" + 0.005*\"compensate\" + 0.005*\"design\" + '\n",
      "  '0.005*\"mean\" + 0.005*\"range\"'),\n",
      " (12,\n",
      "  '0.146*\"wetland\" + 0.128*\"provide\" + 0.036*\"land\" + 0.036*\"facility\" + '\n",
      "  '0.004*\"asbestos\" + 0.004*\"state\" + 0.004*\"settlement\" + 0.004*\"mean\" + '\n",
      "  '0.004*\"design\" + 0.004*\"fws\"'),\n",
      " (13,\n",
      "  '0.160*\"contamination\" + 0.040*\"operate\" + 0.040*\"estimate\" + 0.040*\"result\" '\n",
      "  '+ 0.004*\"public\" + 0.004*\"design\" + 0.004*\"fws\" + 0.004*\"commonwealth\" + '\n",
      "  '0.004*\"compensate\" + 0.004*\"range\"'),\n",
      " (14,\n",
      "  '0.307*\"use\" + 0.132*\"decree\" + 0.132*\"consent\" + 0.062*\"cost\" + '\n",
      "  '0.018*\"manufacturing\" + 0.018*\"remedial\" + 0.018*\"arsenic\" + '\n",
      "  '0.002*\"restoration\" + 0.002*\"also\" + 0.002*\"project\"'),\n",
      " (15,\n",
      "  '0.168*\"include\" + 0.042*\"19th\" + 0.042*\"resolve\" + 0.004*\"mean\" + '\n",
      "  '0.004*\"assessment\" + 0.004*\"range\" + 0.004*\"compensate\" + '\n",
      "  '0.004*\"reimbursement\" + 0.004*\"fws\" + 0.004*\"commonwealth\"'),\n",
      " (16,\n",
      "  '0.584*\"settlement\" + 0.057*\"today\" + 0.018*\"manufacture\" + 0.018*\"acre\" + '\n",
      "  '0.002*\"restoration\" + 0.002*\"public\" + 0.002*\"MassDEPs\" + 0.002*\"work\" + '\n",
      "  '0.002*\"comment\" + 0.002*\"fund\"'),\n",
      " (17,\n",
      "  '0.250*\"groundwater\" + 0.036*\"substance\" + 0.036*\"cotton\" + 0.036*\"various\" '\n",
      "  '+ 0.004*\"natural\" + 0.004*\"mean\" + 0.004*\"range\" + 0.004*\"compensate\" + '\n",
      "  '0.004*\"assessment\" + 0.004*\"commonwealth\"'),\n",
      " (18,\n",
      "  '0.273*\"natural\" + 0.067*\"injury\" + 0.067*\"lodge\" + 0.030*\"clutch\" + '\n",
      "  '0.030*\"back\" + 0.003*\"range\" + 0.003*\"commonwealth\" + 0.003*\"design\" + '\n",
      "  '0.003*\"assessment\" + 0.003*\"mean\"'),\n",
      " (19,\n",
      "  '0.315*\"resource\" + 0.031*\"large\" + 0.031*\"operator\" + 0.031*\"date\" + '\n",
      "  '0.031*\"1million\" + 0.003*\"property\" + 0.003*\"compensate\" + 0.003*\"design\" + '\n",
      "  '0.003*\"public\" + 0.003*\"organization\"')]\n"
     ]
    }
   ],
   "source": [
    "# Print the Keyword in the 10 topics\n",
    "pprint(lda_model.print_topics())\n",
    "doc_lda = lda_model[corpus]"
   ]
  },
  {
   "cell_type": "code",
   "execution_count": 44,
   "metadata": {},
   "outputs": [
    {
     "name": "stdout",
     "output_type": "stream",
     "text": [
      "\n",
      "Perplexity:  -20.580518818099517\n",
      "\n",
      "Coherence Score:  0.8399551092841173\n"
     ]
    }
   ],
   "source": [
    "# Compute Perplexity\n",
    "print('\\nPerplexity: ', lda_model.log_perplexity(corpus))  # a measure of how good the model is. lower the better.\n",
    "\n",
    "# Compute Coherence Score\n",
    "coherence_model_lda = CoherenceModel(model=lda_model, texts=tokens_, dictionary=id2word, coherence='c_v')\n",
    "coherence_lda = coherence_model_lda.get_coherence()\n",
    "print('\\nCoherence Score: ', coherence_lda)"
   ]
  },
  {
   "cell_type": "code",
   "execution_count": 45,
   "metadata": {},
   "outputs": [],
   "source": [
    "# Plotting tools\n",
    "import pyLDAvis\n",
    "import pyLDAvis.gensim  # don't skip this\n",
    "import matplotlib.pyplot as plt\n",
    "%matplotlib inline"
   ]
  },
  {
   "cell_type": "code",
   "execution_count": 1,
   "metadata": {},
   "outputs": [],
   "source": [
    "# # Visualize the topics\n",
    "# pyLDAvis.enable_notebook()\n",
    "# vis = pyLDAvis.gensim.prepare(lda_model, corpus, id2word)\n",
    "# vis"
   ]
  },
  {
   "cell_type": "code",
   "execution_count": null,
   "metadata": {},
   "outputs": [],
   "source": []
  }
 ],
 "metadata": {
  "kernelspec": {
   "display_name": "Python 3",
   "language": "python",
   "name": "python3"
  },
  "language_info": {
   "codemirror_mode": {
    "name": "ipython",
    "version": 3
   },
   "file_extension": ".py",
   "mimetype": "text/x-python",
   "name": "python",
   "nbconvert_exporter": "python",
   "pygments_lexer": "ipython3",
   "version": "3.8.2"
  }
 },
 "nbformat": 4,
 "nbformat_minor": 4
}

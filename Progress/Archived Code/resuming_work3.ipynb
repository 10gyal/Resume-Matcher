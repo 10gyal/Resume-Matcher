{
 "cells": [
  {
   "cell_type": "code",
   "execution_count": 1,
   "metadata": {},
   "outputs": [],
   "source": [
    "import numpy as np\n",
    "import pandas as pd\n",
    "import matplotlib.pyplot as plt\n",
    "import seaborn as sns\n",
    "pd.set_option(\"display.max_colwidth\", 200)\n",
    "import gensim\n",
    "import spacy\n",
    "import Distill\n",
    "from sklearn.metrics.pairwise import cosine_similarity as cos\n",
    "import scipy\n",
    "from scipy.spatial.distance import cosine as cosd"
   ]
  },
  {
   "cell_type": "code",
   "execution_count": 2,
   "metadata": {},
   "outputs": [],
   "source": [
    "Dataset = pd.read_json('../Dataset/Resume_1.json')"
   ]
  },
  {
   "cell_type": "code",
   "execution_count": 3,
   "metadata": {},
   "outputs": [],
   "source": [
    "Data = []\n",
    "Data_label = []\n",
    "def read_dataset_return_list(Dataset):\n",
    "    # must be a pandas DataFrame Object\n",
    "    for i in Dataset.columns:\n",
    "        Data.append(Dataset[i][0])\n",
    "        Data_label.append(i)\n"
   ]
  },
  {
   "cell_type": "code",
   "execution_count": 4,
   "metadata": {},
   "outputs": [],
   "source": [
    "read_dataset_return_list(Dataset)"
   ]
  },
  {
   "cell_type": "code",
   "execution_count": 5,
   "metadata": {},
   "outputs": [],
   "source": [
    "def clean_text(text):\n",
    "    text = Distill.tokenize(text)\n",
    "    text = Distill.remove_stopwords(text)\n",
    "    text = Distill.remove_tags(text)\n",
    "    text = Distill.lemmatize(text)\n",
    "    text = set(text)\n",
    "    return list(text)"
   ]
  },
  {
   "cell_type": "code",
   "execution_count": 6,
   "metadata": {},
   "outputs": [],
   "source": [
    "# Preprocessing Pipeline\n",
    "cleaned = []\n",
    "for i in Data:\n",
    "    cleaned.append(clean_text(i))\n"
   ]
  },
  {
   "cell_type": "code",
   "execution_count": 7,
   "metadata": {},
   "outputs": [],
   "source": [
    "doc = []\n",
    "for i in range(len(cleaned)):\n",
    "    t = ' '.join(cleaned[i])\n",
    "    doc.append(t)"
   ]
  },
  {
   "cell_type": "code",
   "execution_count": null,
   "metadata": {},
   "outputs": [],
   "source": []
  },
  {
   "cell_type": "code",
   "execution_count": 8,
   "metadata": {},
   "outputs": [],
   "source": [
    "nlp = spacy.load('en_vectors_web_lg')"
   ]
  },
  {
   "cell_type": "code",
   "execution_count": 9,
   "metadata": {},
   "outputs": [],
   "source": [
    "check = nlp(doc[1])"
   ]
  },
  {
   "cell_type": "code",
   "execution_count": 10,
   "metadata": {},
   "outputs": [],
   "source": [
    "check2 = nlp(doc[2])"
   ]
  },
  {
   "cell_type": "code",
   "execution_count": 11,
   "metadata": {},
   "outputs": [
    {
     "data": {
      "text/plain": [
       "meeting production ability root servicenow ontime now matter peer business use datum application carry basic strong hyderbad part orchestration system right technology daily solve end basis responsibility critical session exposure qmf interaction award manual direct reduce large learn tracking ensure strength identify year zos domain IDCAMS approach sharing defect report sale good involve provide help automation link world important fix development impact major set processing deliverable experience project skill management insta enhancement indeedcomrakhilyadavpolemaina subject web communication portal host systematic workflow additional incident front librarian repeat client Project receive problem effort mainframe expert debugging received develop software activity automate retailer willing platform cause Teradata lead improvement knowledge present cobol daytoday analytical request logical boarding supplier various intervention troubleshooting Objective high task work user CA7 retail issue support performance perform decision indeed case take effective analysis relocate multiple maintenance dfsort transfer group"
      ]
     },
     "execution_count": 11,
     "metadata": {},
     "output_type": "execute_result"
    }
   ],
   "source": [
    "check"
   ]
  },
  {
   "cell_type": "code",
   "execution_count": 12,
   "metadata": {},
   "outputs": [
    {
     "data": {
      "text/plain": [
       "C environment access year objective ability additional knowledge excellence organize net organization language g information use excellent MICROSOFT personallity hard programming quick wish create conceptual work HTML consistently believe learning experience active Less indeedcomrafreenjamadar8baf379b705e37c6 skills skill indeed team achieve understanding take initiative member trait working php windows web"
      ]
     },
     "execution_count": 12,
     "metadata": {},
     "output_type": "execute_result"
    }
   ],
   "source": [
    "check2"
   ]
  },
  {
   "cell_type": "code",
   "execution_count": 13,
   "metadata": {},
   "outputs": [],
   "source": [
    "from sklearn.decomposition import PCA"
   ]
  },
  {
   "cell_type": "code",
   "execution_count": 105,
   "metadata": {},
   "outputs": [],
   "source": [
    "pca = PCA(n_components=1)"
   ]
  },
  {
   "cell_type": "code",
   "execution_count": 106,
   "metadata": {},
   "outputs": [],
   "source": [
    "\n",
    "c1_vector = np.vstack([word.vector for word in check if word.has_vector])"
   ]
  },
  {
   "cell_type": "code",
   "execution_count": 107,
   "metadata": {},
   "outputs": [
    {
     "data": {
      "text/plain": [
       "(300, 1)"
      ]
     },
     "execution_count": 107,
     "metadata": {},
     "output_type": "execute_result"
    }
   ],
   "source": [
    "check[1].vector.reshape(-1,1).shape"
   ]
  },
  {
   "cell_type": "code",
   "execution_count": null,
   "metadata": {},
   "outputs": [],
   "source": []
  },
  {
   "cell_type": "code",
   "execution_count": 108,
   "metadata": {},
   "outputs": [
    {
     "data": {
      "text/plain": [
       "(131, 300)"
      ]
     },
     "execution_count": 108,
     "metadata": {},
     "output_type": "execute_result"
    }
   ],
   "source": [
    "c1_vector.shape"
   ]
  },
  {
   "cell_type": "code",
   "execution_count": 109,
   "metadata": {},
   "outputs": [],
   "source": [
    "oof = pca.fit_transform(c1_vector)"
   ]
  },
  {
   "cell_type": "code",
   "execution_count": 110,
   "metadata": {},
   "outputs": [],
   "source": [
    "c2_vector = np.vstack([word.vector for word in check2 if word.has_vector])"
   ]
  },
  {
   "cell_type": "code",
   "execution_count": 111,
   "metadata": {},
   "outputs": [],
   "source": [
    "oof2 = pca.fit_transform(c2_vector)"
   ]
  },
  {
   "cell_type": "code",
   "execution_count": null,
   "metadata": {},
   "outputs": [],
   "source": []
  },
  {
   "cell_type": "code",
   "execution_count": 113,
   "metadata": {},
   "outputs": [
    {
     "data": {
      "text/plain": [
       "array([[-1.,  1., -1., ..., -1., -1., -1.],\n",
       "       [-1.,  1., -1., ..., -1., -1., -1.],\n",
       "       [-1.,  1., -1., ..., -1., -1., -1.],\n",
       "       ...,\n",
       "       [ 1., -1.,  1., ...,  1.,  1.,  1.],\n",
       "       [ 1., -1.,  1., ...,  1.,  1.,  1.],\n",
       "       [-1.,  1., -1., ..., -1., -1., -1.]], dtype=float32)"
      ]
     },
     "execution_count": 113,
     "metadata": {},
     "output_type": "execute_result"
    }
   ],
   "source": [
    "cos(oof, oof2)"
   ]
  },
  {
   "cell_type": "code",
   "execution_count": 1,
   "metadata": {},
   "outputs": [],
   "source": [
    "# sns.scatterplot(oof[:,0],oof[:,1])\n",
    "# sns.scatterplot(oof2[:,0],oof2[:,1])"
   ]
  },
  {
   "cell_type": "code",
   "execution_count": 24,
   "metadata": {},
   "outputs": [],
   "source": [
    "job = job_desc4 = \"\"\"The position holder will be responsible for creation and implementation of a wide variety of Web-based products using PHP, JavaScript, MySQL and AJAX.\n",
    "\n",
    "Key Responsibility Areas:\n",
    "\n",
    "Create, design and modify websites to suit the requirements of a client.\n",
    "PHP Developers need to have a thorough knowledge of developing cross platforms that are compatible with Web, mobile Web applications.\n",
    "Sound knowledge & working experience on PHP & shall be hands on database and programming experience.\n",
    "Additional skill-sets of OOPS concept, PHP, LAMP technologies, XML, HTML, CSS, Javascript, JQuery, Ajax.\n",
    "Good understanding of Oracle PL/SQL\n",
    "Relevant software architecture, software development, and software testing experience\n",
    "Should have ability to work as a team with business owner, developers, designers & testers.\n",
    "Qulification:\n",
    "\n",
    "B. Tech with minimum 60%\n",
    "10th and 12th with minimum 75%\n",
    "Experience:\n",
    "\n",
    "1 -3 years of PHP development experience.\n",
    "Skill Sets/ Requirements:\n",
    "\n",
    "Experience with PHP Programming on Open Source Tools.\n",
    "Implementation of eCommerce Projects\n",
    "Good command over AJAX & Database SQL programming.\n",
    "Experience with PHP Programming on Open Source Tools\n",
    "Knowledge of PHP, HTML5, CSS, Javascript, AJAX\n",
    "Good Knowledge of object oriented programming\n",
    "Knowledge in java script libraries (Jquery, Prototype)\n",
    "Effective communication & comprehension skill\n",
    "Understand Severity and Priority needs\n",
    "Time Management\n",
    "Quick decision making\"\"\""
   ]
  },
  {
   "cell_type": "code",
   "execution_count": 25,
   "metadata": {},
   "outputs": [],
   "source": [
    "j1 = clean_text(job)"
   ]
  },
  {
   "cell_type": "code",
   "execution_count": 26,
   "metadata": {},
   "outputs": [],
   "source": [
    "j_1 = \" \".join(j1)"
   ]
  },
  {
   "cell_type": "code",
   "execution_count": 27,
   "metadata": {},
   "outputs": [],
   "source": [
    "j_1 = nlp(j_1)"
   ]
  },
  {
   "cell_type": "code",
   "execution_count": 28,
   "metadata": {},
   "outputs": [],
   "source": [
    "# j_1[3].similarity(check2[5])"
   ]
  },
  {
   "cell_type": "code",
   "execution_count": 29,
   "metadata": {},
   "outputs": [],
   "source": [
    "import difflib"
   ]
  },
  {
   "cell_type": "code",
   "execution_count": 30,
   "metadata": {},
   "outputs": [
    {
     "name": "stdout",
     "output_type": "stream",
     "text": [
      "<difflib.SequenceMatcher object at 0x7f4071fd2e50>\n"
     ]
    }
   ],
   "source": [
    "print(difflib.SequenceMatcher(None,doc[1],doc[2]))"
   ]
  },
  {
   "cell_type": "code",
   "execution_count": 31,
   "metadata": {},
   "outputs": [],
   "source": [
    "import textdistance"
   ]
  },
  {
   "cell_type": "code",
   "execution_count": 32,
   "metadata": {},
   "outputs": [],
   "source": [
    "check_t = Distill.tokenize(doc[1])"
   ]
  },
  {
   "cell_type": "code",
   "execution_count": 33,
   "metadata": {},
   "outputs": [],
   "source": [
    "check2_t = Distill.tokenize(doc[2]) "
   ]
  },
  {
   "cell_type": "code",
   "execution_count": 34,
   "metadata": {},
   "outputs": [
    {
     "data": {
      "text/plain": [
       "0.2682926829268293"
      ]
     },
     "execution_count": 34,
     "metadata": {},
     "output_type": "execute_result"
    }
   ],
   "source": [
    "textdistance.algorithms.overlap(check_t, j1)"
   ]
  },
  {
   "cell_type": "code",
   "execution_count": 35,
   "metadata": {},
   "outputs": [
    {
     "data": {
      "text/plain": [
       "2342"
      ]
     },
     "execution_count": 35,
     "metadata": {},
     "output_type": "execute_result"
    }
   ],
   "source": [
    "textdistance.algorithms.damerau_levenshtein(doc[1],\" \".join(job))"
   ]
  },
  {
   "cell_type": "code",
   "execution_count": 44,
   "metadata": {},
   "outputs": [
    {
     "data": {
      "text/plain": [
       "0.08665105386416862"
      ]
     },
     "execution_count": 44,
     "metadata": {},
     "output_type": "execute_result"
    }
   ],
   "source": [
    "# Data[15]\n",
    "# cleaned[15]\n",
    "textdistance.algorithms.jaccard(cleaned[15],j1)"
   ]
  },
  {
   "cell_type": "code",
   "execution_count": null,
   "metadata": {},
   "outputs": [],
   "source": []
  },
  {
   "cell_type": "code",
   "execution_count": 47,
   "metadata": {},
   "outputs": [],
   "source": [
    "# print(Data[15])"
   ]
  },
  {
   "cell_type": "code",
   "execution_count": 54,
   "metadata": {},
   "outputs": [],
   "source": [
    "import abydos"
   ]
  },
  {
   "cell_type": "code",
   "execution_count": 48,
   "metadata": {},
   "outputs": [],
   "source": [
    "from abydos import distance as D"
   ]
  },
  {
   "cell_type": "code",
   "execution_count": 51,
   "metadata": {},
   "outputs": [],
   "source": [
    "tf_if = D.TFIDF()"
   ]
  },
  {
   "cell_type": "code",
   "execution_count": 58,
   "metadata": {},
   "outputs": [
    {
     "data": {
      "text/plain": [
       "0.9685863874345549"
      ]
     },
     "execution_count": 58,
     "metadata": {},
     "output_type": "execute_result"
    }
   ],
   "source": [
    "abydos.distance.dist(cleaned[15], j1)"
   ]
  },
  {
   "cell_type": "code",
   "execution_count": 60,
   "metadata": {},
   "outputs": [],
   "source": [
    "cmp = abydos.distance.AMPLE()"
   ]
  },
  {
   "cell_type": "code",
   "execution_count": 69,
   "metadata": {},
   "outputs": [
    {
     "data": {
      "text/plain": [
       "0.1129308176100629"
      ]
     },
     "execution_count": 69,
     "metadata": {},
     "output_type": "execute_result"
    }
   ],
   "source": [
    "cmp.sim(doc[15], jt)"
   ]
  },
  {
   "cell_type": "code",
   "execution_count": 66,
   "metadata": {},
   "outputs": [],
   "source": [
    "jt = \" \".join(j1)"
   ]
  },
  {
   "cell_type": "code",
   "execution_count": 71,
   "metadata": {},
   "outputs": [],
   "source": [
    "# doc[15]"
   ]
  },
  {
   "cell_type": "code",
   "execution_count": 74,
   "metadata": {},
   "outputs": [],
   "source": [
    "similar = []\n",
    "for a in range(len(doc)):\n",
    "    score = cmp.sim(doc[a], job)\n",
    "    tups = [a, score]\n",
    "    similar.append(tups)\n",
    "    "
   ]
  },
  {
   "cell_type": "code",
   "execution_count": 83,
   "metadata": {},
   "outputs": [
    {
     "data": {
      "text/plain": [
       "[[0, 0.05289391294710888],\n",
       " [1, 0.02736049801126661],\n",
       " [2, 0.04038488908769289],\n",
       " [3, 0.22178490118607025],\n",
       " [4, 0.03944385326596023],\n",
       " [5, 0.054707772089875206],\n",
       " [6, 0.2155019519504215],\n",
       " [7, 0.032836437396275175],\n",
       " [8, 0.07654571811465471],\n",
       " [9, 0.05586463636953609],\n",
       " [10, 0.013677764742446419],\n",
       " [11, 0.005847935759276335],\n",
       " [12, 0.0615211718894223],\n",
       " [13, 0.016799612286081955],\n",
       " [14, 0.013114989585577774],\n",
       " [15, 0.3456562628578146],\n",
       " [16, 0.08361740300515819],\n",
       " [17, 0.012620806160132059],\n",
       " [18, 0.18624349381912814],\n",
       " [19, 0.15207780725022102],\n",
       " [20, 0.0813121927826399]]"
      ]
     },
     "execution_count": 83,
     "metadata": {},
     "output_type": "execute_result"
    }
   ],
   "source": [
    "similar"
   ]
  },
  {
   "cell_type": "code",
   "execution_count": 87,
   "metadata": {},
   "outputs": [],
   "source": [
    "# print(Data[3])"
   ]
  },
  {
   "cell_type": "code",
   "execution_count": 88,
   "metadata": {},
   "outputs": [],
   "source": [
    "# print(job)"
   ]
  },
  {
   "cell_type": "code",
   "execution_count": 89,
   "metadata": {},
   "outputs": [],
   "source": [
    "cluster = \"\"\"\n",
    "Summary\n",
    "Seeking an innovative and responsible position in Frontend Development where my knowledge, my talent can be utilized efficiently and to develop new and innovative ideas for the growth and enhancement of the company as well as my career.\n",
    "Front End Developer with more than 4 years of creative experience. In depth, I build Web Designs using WordPress, HTML5, CSS3,JavaScript, Photoshop, Bootstrap, Jquery and Responsive designs using Media queries, Basic Angular 8, GitHub. \n",
    "\n",
    " \n",
    "Work Experience\n",
    " Crimson Interactive as Web Developer\n",
    "Oct 2018 to Till Date\n",
    "PSD to interactive HTML web page conversion with responsive development, Website maintenance, Website optimization\n",
    " \n",
    " WDIPL Mumbai as Front End Developer\n",
    "Mar 2016 to Sep 2018\n",
    "PSD to HTML conversion with all device compatibility, cross browser compatibility\n",
    " \n",
    " Aspiring web solutions as Junior HTML developer\n",
    "Aug 2015 to Mar 2016\n",
    "PSD to HTML conversion Website maintainace with good code hygiene\n",
    " \n",
    "^ Back to Top\n",
    " \n",
    "Education\n",
    "UG: B.Sc (Computers) from JAI NARAYAN VYAS UNIVERSITY,JODHPUR in 2015\n",
    " \n",
    " \n",
    "^ Back to Top\n",
    " \n",
    "IT Skills\n",
    "Skill Name\tVersion\tLast Used\tExperience\n",
    "HTML\t\t\t\n",
    "CSS3, AMP, JavaScript\t\t\t\n",
    "Photoshop, Bootstrap\t\t\t\n",
    "JavaScript\n",
    "JQUERY\t\t\t\n",
    "Adobe Photoshop , Editplus\t\t\t\n",
    "Dreamweaver , Netbeans\t\t\t\n",
    "^ Back to Top\n",
    "Languages Known\n",
    "Language\tProficiency\tRead\tWrite\tSpeak\n",
    "English\tProficient\t\n",
    " \n",
    " \n",
    " \n",
    "Hindi\tExpert\t\n",
    " \n",
    " \n",
    " \n",
    "Marwari\tProficient\t\n",
    " \n",
    " \n",
    " \n",
    "^ Back to Top\n",
    " \n",
    "Projects\n",
    " \n",
    "Project Title: http://www.keyshomekeys.com/\n",
    "Client: Web Development\n",
    "Nature of Employment: Full Time\n",
    "Duration: Jun 2019 - Jul 2019\n",
    "Onsite / Offsite: Offsite\n",
    " \n",
    "Project Details: property-related project\"\"\""
   ]
  },
  {
   "cell_type": "code",
   "execution_count": 90,
   "metadata": {},
   "outputs": [],
   "source": [
    "cluster_2 = \"\"\"\n",
    "Summary\n",
    "Percuing MCA in 2nd year with 1 years experience in Software Development,Web Application Development,Project Management,Unit Testing,Software Design,C,C++,Core Java,C#,Asp.Net,MVC,XML,Html,JavaScript. \n",
    "\n",
    " \n",
    "Work Experience\n",
    " krisol infosoft as Junior Web Developer\n",
    "Jan 2019 to Jan 2020\n",
    "The role is responsible for designing, coding and modifying websites, from layout to function and according to a client's specifications.\n",
    "Writing well designed, testable, efficient code by using best software development.Handling Client queries and working on both development and Support Team.\n",
    " \n",
    " Krisol Infosoft as Junior Web Developer\n",
    "Jan 2019 to Till Date\n",
    "The role is responsible for designing, coding and modifying websites, from layout to function and according to a client's specifications.\n",
    "Writing well designed, testable, efficient code by using best software development.Handling Client queries and working on both development and Support Team.\n",
    " \n",
    " Krisol Infosoft Pvt. Ltd as Jr. Web Developer\n",
    "Jan 2019 to Jan 2020\n",
    "*     Developing in-house ERP projects in ASP.NET and SQL/Oracle\n",
    "*     Worked on telerik applications\n",
    "*     Responsible for the developing in-house ERP projects in (ASP.NET+SQL), (ASP.NET+ oracle 12c), API projects for supporting android app. Worked on web services\n",
    "*     Handling the problem and troubleshooting\n",
    "*     Unit Testing and Documentations\n",
    "*     Directing or performing Website updates\n",
    "*     Website and software application designing, building, or maintaining\n",
    " \n",
    "^ Back to Top\n",
    " \n",
    "Education\n",
    "UG: B.Sc (Computers) from Mumbai University in 2016\n",
    "PG: MCA (Computers), Correspondence/Distance Learning from Mumbai University in 2020\n",
    "Other Qualifications/Certifications/Programs:\n",
    "*     Certified with SCTST-JAVA from Seed Infotech including C, SQL, J2SE, and J2EE.\n",
    " \n",
    " \n",
    "^ Back to Top\n",
    " \n",
    "IT Skills\n",
    "Skill Name\tVersion\tLast Used\tExperience\n",
    "C, C++, Core Java, C#,Asp.Net with MVC\t\t\t\n",
    "SQL (Oracle 12C)\t\t\t\n",
    "XML, HTML, JavaScript\t\t\t\n",
    "Eclipse, Microsoft Visual Studio 2017\t\t\t\n",
    "WINDOWS\t\t\t\n",
    "^ Back to Top\n",
    "Languages Known\n",
    "Language\tProficiency\tRead\tWrite\tSpeak\n",
    "English\t\t \t \t \n",
    "Hindi\t\t \t \t \n",
    "Marathi\t\t \t \"\"\""
   ]
  },
  {
   "cell_type": "code",
   "execution_count": 91,
   "metadata": {},
   "outputs": [],
   "source": [
    "cluster_3 = \"\"\"\n",
    "Summary\n",
    "Passionate Developer with 4 years of experience in Web Development technologies and methodologies, seeking for an opportunity to associate myself with a leading organization that provides a challenging job to improve my innovative skills while making a significant contribution to the success of the company \n",
    "\n",
    " \n",
    "Work Experience\n",
    " IVTL Infoview Technologies Private Limited as Web Developer\n",
    "Sep 2016 to Till Date\n",
    "1 High Usability Enterprise (HUE) Jun 2018 - Present\n",
    "ERP product - Works Application (Japan)\n",
    "* Analyzing the catalog documents, functional business requirements and prepared Enterprise data relationship diagrams\n",
    "* Designed and developed application with large user utility, involving recursive DB hits with high speed responses involving batch process using Apache Spark framework\n",
    "* Responsible for integration of batch with front-end programs to deliver functional and cohesive codes to enhance the user experience\n",
    "* Generated reports using Jaspersoft Studio\n",
    "\n",
    "#2 Company V7 - QE AutoTest Nov 2017 - May 2018\n",
    "Testing Tool Development\n",
    "* Preparing tool specification document for various components and created Automation test scripts for the specification\n",
    "* Executed test scripts on different browsers/environments and fixed defects\n",
    "* Facilitate specification enhancement and automation feasibility for new components\n",
    "\n",
    "#3 CORTEX+ Sep 2016 - Oct 2017\n",
    "Project management and issue tracking tool\n",
    "Analyzing functional requirements and developed it in agile methodology\n",
    "* Developed modules such as Leave Application, Issue List and Resource Allocation\n",
    "* Worked in App generator module as well, responsible for updating java templates as per the new standards and enhancements\n",
    "* Involved in timing analysis & critical load analysis and optimization based on the results\n",
    " \n",
    "^ Back to Top\n",
    " \n",
    "Education\n",
    "UG: B.Tech/B.E. (Electronics/Telecommunication) from m.a.m college of engineering and technology in 2016\n",
    " \n",
    " \n",
    "^ Back to Top\n",
    " \n",
    "IT Skills\n",
    "Skill Name\tVersion\tLast Used\tExperience\n",
    "Spring MVC, Hibernate\t\t2020\t4 Year(s) 0 Month(s)\n",
    "Apache Spark (Basics), Selenide\t\t2020\t4 Year(s) 0 Month(s)\n",
    "TestNG, RESTful Web Services\t\t2020\t4 Year(s) 0 Month(s)\n",
    "JAVA 8, J2EE\t\t2020\t4 Year(s) 0 Month(s)\n",
    "HTML, XML, CSS, JAVASCRIPT\t\t2020\t4 Year(s) 0 Month(s)\n",
    "JQUERY\t\t2020\t4 Year(s) 0 Month(s)\n",
    "Oracle, Cassandra\t\t2020\t4 Year(s) 0 Month(s)\n",
    "Apache Tomcat\t\t2020\t4 Year(s) 0 Month(s)\n",
    "GIT, Jenkins, SonarQube\t\t2020\t4 Year(s) 0 Month(s)\n",
    "Eclipse Luna\t\t2020\t4 Year(s) 0 Month(s)\n",
    "C, C++\t\t2016\t0 Year(s) 0 Month(s)\n",
    "WINDOWS, UNIX\t\t2020\t4 Year(s) 0 Month(s)\n",
    "^ Back to Top\n",
    "Languages Known\n",
    "Language\tProficiency\tRead\tWrite\tSpeak\n",
    "English\tExpert\t\n",
    " \n",
    " \n",
    " \n",
    "Tamil\tExpert\t\n",
    " \n",
    " \n",
    " \"\"\""
   ]
  },
  {
   "cell_type": "code",
   "execution_count": 92,
   "metadata": {},
   "outputs": [],
   "source": [
    "cluster_4 = \"\"\"\n",
    "Summary\n",
    "Result-oriented Professional with over 8 years of experience in Web Development,Web Designing,Database Management,Server Management,Process Improvement,Software Engineering,HTML,PHP,CSS,Java,Javascript,JQuery,AWS \n",
    "\n",
    " \n",
    "Work Experience\n",
    " Glen Appliance Pvt. Ltd. as Senior Web Developer\n",
    "Dec 2017 to Till Date\n",
    "Develop mobile-friendly websites and management systems like CMS, CRM, document management for the company and integrating rest API's, ad word, analytics, and making campaign pages for lead generation and internal applications like dashboards for eCommerce websites, user management etc. Integrating google maps direction APIs, Oauth for google, facebook, LinkedIn, twitter. third party code integration like taboola, Shoptimize, etc .\n",
    "AWS integration for Amazon LIGHTSAIL, EC2 instance, RDS , DIGITAL OCEAN droplets Managed database .\n",
    " \n",
    " VK GLobal Publication as PHP Developer\n",
    "Sep 2015 to Nov 2017\n",
    "Designing sites using HTML, CSS, PHP (core, cakephp,laravel), MYSQL, jquery and JavaScript & also worked over different templates.\n",
    " \n",
    " BCC Research as Digital Marketing & List Researcher\n",
    "Apr 2012 to Jul 2015\n",
    "List Researcher, Email Marketing, Computer Technical Supporter & Team Leader.\n",
    " \n",
    "^ Back to Top\n",
    " \n",
    "Education\n",
    "UG: B.Tech/B.E. (Computers) from Aravali College of Engineering & Management, Faridabad in 2012\n",
    "PG: in 0\n",
    " \n",
    " \n",
    "^ Back to Top\n",
    " \n",
    "IT Skills\n",
    "Skill Name\tVersion\tLast Used\tExperience\n",
    "CAKEPHP\t2.6,3.X\t2017\t3 Year(s)\n",
    "core php\t4,5\t2019\t6 Year(s)\n",
    "AJAX\t\t2019\t6 Year(s)\n",
    "JQUERY\t3.2.1\t2019\t5 Year(s) 7 Month(s)\n",
    "HTML\t5\t2019\t6 Year(s)\n",
    "CSS\t3\t2019\t5 Year(s) 7 Month(s)\n",
    "MySQL\t5.7\t2019\t5 Year(s)\n",
    "Laravel\t4,5.xx\t2019\t5 Year(s) 7 Month(s)\n",
    "Amazon EC2\tamazon ec2\t2020\t2 Year(s) 0 Month(s)\n",
    "Digital Ocean\t1\t2020\t2 Year(s) 0 Month(s)\n",
    "^ Back to Top\n",
    "Languages Known\n",
    "Language\tProficiency\tRead\tWrite\tSpeak\n",
    "English\tProficient\t\n",
    " \n",
    " \n",
    " \n",
    "Hindi\tExpert\t\n",
    " \n",
    " \n",
    " \n",
    "\n",
    "\"\"\""
   ]
  },
  {
   "cell_type": "code",
   "execution_count": 93,
   "metadata": {},
   "outputs": [],
   "source": [
    "cleaning = []"
   ]
  },
  {
   "cell_type": "code",
   "execution_count": 94,
   "metadata": {},
   "outputs": [],
   "source": [
    "cleaning.append(clean_text(cluster))"
   ]
  },
  {
   "cell_type": "code",
   "execution_count": 96,
   "metadata": {},
   "outputs": [],
   "source": [
    "# cleaning"
   ]
  },
  {
   "cell_type": "code",
   "execution_count": 97,
   "metadata": {},
   "outputs": [],
   "source": [
    "cleaning.append(clean_text(cluster_2))\n",
    "cleaning.append(clean_text(cluster_3))\n",
    "cleaning.append(clean_text(cluster_4))"
   ]
  },
  {
   "cell_type": "code",
   "execution_count": 104,
   "metadata": {},
   "outputs": [
    {
     "name": "stdout",
     "output_type": "stream",
     "text": [
      "0 0.34683397622108986\n",
      "1 0.39993016217894006\n",
      "2 0.37878774402988397\n",
      "3 0.31958507948784726\n"
     ]
    }
   ],
   "source": [
    "\n",
    "for o in range(len(cleaning)):\n",
    "    print(o, cmp.sim(\" \".join(cleaning[o]),jt))\n",
    "    "
   ]
  },
  {
   "cell_type": "code",
   "execution_count": null,
   "metadata": {},
   "outputs": [],
   "source": []
  }
 ],
 "metadata": {
  "kernelspec": {
   "display_name": "Python 3",
   "language": "python",
   "name": "python3"
  },
  "language_info": {
   "codemirror_mode": {
    "name": "ipython",
    "version": 3
   },
   "file_extension": ".py",
   "mimetype": "text/x-python",
   "name": "python",
   "nbconvert_exporter": "python",
   "pygments_lexer": "ipython3",
   "version": "3.8.2"
  }
 },
 "nbformat": 4,
 "nbformat_minor": 4
}

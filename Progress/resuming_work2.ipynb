{
 "cells": [
  {
   "cell_type": "code",
   "execution_count": 1,
   "metadata": {},
   "outputs": [],
   "source": [
    "import numpy as np\n",
    "import pandas as pd\n",
    "import matplotlib.pyplot as plt\n",
    "import seaborn as sns\n",
    "pd.set_option(\"display.max_colwidth\", 200)"
   ]
  },
  {
   "cell_type": "code",
   "execution_count": 2,
   "metadata": {},
   "outputs": [],
   "source": [
    "import gensim\n",
    "import spacy"
   ]
  },
  {
   "cell_type": "code",
   "execution_count": 3,
   "metadata": {},
   "outputs": [],
   "source": [
    "import Distill"
   ]
  },
  {
   "cell_type": "code",
   "execution_count": 17,
   "metadata": {},
   "outputs": [],
   "source": [
    "from sklearn.feature_extraction.text import TfidfVectorizer\n",
    "from sklearn.decomposition import TruncatedSVD\n",
    "import umap"
   ]
  },
  {
   "cell_type": "code",
   "execution_count": null,
   "metadata": {},
   "outputs": [],
   "source": []
  },
  {
   "cell_type": "code",
   "execution_count": 4,
   "metadata": {},
   "outputs": [],
   "source": [
    "Dataset = pd.read_json('../Dataset/Resume_1.json')"
   ]
  },
  {
   "cell_type": "code",
   "execution_count": 5,
   "metadata": {},
   "outputs": [],
   "source": [
    "Data = []\n",
    "Data_label = []\n",
    "def read_dataset_return_list(Dataset):\n",
    "    # must be a pandas DataFrame Object\n",
    "    for i in Dataset.columns:\n",
    "        Data.append(Dataset[i][0])\n",
    "        Data_label.append(i)\n"
   ]
  },
  {
   "cell_type": "code",
   "execution_count": 6,
   "metadata": {},
   "outputs": [],
   "source": [
    "read_dataset_return_list(Dataset)"
   ]
  },
  {
   "cell_type": "code",
   "execution_count": 7,
   "metadata": {},
   "outputs": [],
   "source": [
    "def clean_text(text):\n",
    "    text = Distill.tokenize(text)\n",
    "    text = Distill.remove_stopwords(text)\n",
    "    text = Distill.remove_tags(text)\n",
    "    text = Distill.lemmatize(text)\n",
    "    return text"
   ]
  },
  {
   "cell_type": "code",
   "execution_count": 12,
   "metadata": {},
   "outputs": [],
   "source": [
    "# Preprocessing Pipeline\n",
    "cleaned = []\n",
    "for i in Data:\n",
    "    cleaned.append(clean_text(i))\n"
   ]
  },
  {
   "cell_type": "code",
   "execution_count": 18,
   "metadata": {},
   "outputs": [],
   "source": [
    "# vectorizer = TfidfVectorizer(stop_words='english', \n",
    "# max_features= 1000, # keep top 1000 terms \n",
    "# max_df = 0.5, \n",
    "# smooth_idf=True)"
   ]
  },
  {
   "cell_type": "code",
   "execution_count": 22,
   "metadata": {},
   "outputs": [],
   "source": [
    "doc = []\n",
    "for i in range(len(cleaned)):\n",
    "    t = ' '.join(cleaned[i])\n",
    "    doc.append(t)"
   ]
  },
  {
   "cell_type": "code",
   "execution_count": null,
   "metadata": {},
   "outputs": [],
   "source": []
  },
  {
   "cell_type": "code",
   "execution_count": 24,
   "metadata": {},
   "outputs": [],
   "source": [
    "# X = vectorizer.fit_transform(doc)"
   ]
  },
  {
   "cell_type": "code",
   "execution_count": 25,
   "metadata": {},
   "outputs": [
    {
     "data": {
      "text/plain": [
       "(21, 1000)"
      ]
     },
     "execution_count": 25,
     "metadata": {},
     "output_type": "execute_result"
    }
   ],
   "source": [
    "# X.shape"
   ]
  },
  {
   "cell_type": "code",
   "execution_count": 40,
   "metadata": {},
   "outputs": [],
   "source": [
    "svd_model = TruncatedSVD(n_components=21\n",
    "#                          , algorithm='randomized', n_iter=100, random_state=122)"
   ]
  },
  {
   "cell_type": "code",
   "execution_count": 41,
   "metadata": {},
   "outputs": [
    {
     "data": {
      "text/plain": [
       "TruncatedSVD(n_components=21, n_iter=100, random_state=122)"
      ]
     },
     "execution_count": 41,
     "metadata": {},
     "output_type": "execute_result"
    }
   ],
   "source": [
    "svd_model.fit(X)"
   ]
  },
  {
   "cell_type": "code",
   "execution_count": 42,
   "metadata": {},
   "outputs": [
    {
     "name": "stdout",
     "output_type": "stream",
     "text": [
      "Topic 0: \n",
      "test\n",
      " \n",
      "testing\n",
      " \n",
      "datum\n",
      " \n",
      "client\n",
      " \n",
      "develop\n",
      " \n",
      "automation\n",
      " \n",
      "report\n",
      " \n",
      "Topic 1: \n",
      "expense\n",
      " \n",
      "email\n",
      " \n",
      "payment\n",
      " \n",
      "employee\n",
      " \n",
      "query\n",
      " \n",
      "hold\n",
      " \n",
      "matter\n",
      " \n",
      "Topic 2: \n",
      "css\n",
      " \n",
      "lecturer\n",
      " \n",
      "store\n",
      " \n",
      "user\n",
      " \n",
      "website\n",
      " \n",
      "science\n",
      " \n",
      "language\n",
      " \n",
      "Topic 3: \n",
      "test\n",
      " \n",
      "testing\n",
      " \n",
      "expense\n",
      " \n",
      "form\n",
      " \n",
      "payment\n",
      " \n",
      "deploy\n",
      " \n",
      "utilise\n",
      " \n",
      "Topic 4: \n",
      "member\n",
      " \n",
      "consultant\n",
      " \n",
      "version\n",
      " \n",
      "sale\n",
      " \n",
      "html\n",
      " \n",
      "client\n",
      " \n",
      "net\n",
      " \n",
      "Topic 5: \n",
      "consultant\n",
      " \n",
      "httpswwwindeedcomrgovardhanakb2de315d95905b68isidrexdownloadikwdownloadtopcoin\n",
      " \n",
      "developer\n",
      " \n",
      "version\n",
      " \n",
      "senior\n",
      " \n",
      "datum\n",
      " \n",
      "data\n",
      " \n",
      "Topic 6: \n",
      "matter\n",
      " \n",
      "lecturer\n",
      " \n",
      "subject\n",
      " \n",
      "science\n",
      " \n",
      "bsc\n",
      " \n",
      "main\n",
      " \n",
      "12th\n",
      " \n",
      "Topic 7: \n",
      "form\n",
      " \n",
      "teaching\n",
      " \n",
      "trial\n",
      " \n",
      "guideline\n",
      " \n",
      "clinical\n",
      " \n",
      "accuracy\n",
      " \n",
      "consistency\n",
      " \n",
      "Topic 8: \n",
      "protocol\n",
      " \n",
      "network\n",
      " \n",
      "router\n",
      " \n",
      "switch\n",
      " \n",
      "matter\n",
      " \n",
      "test\n",
      " \n",
      "route\n",
      " \n",
      "Topic 9: \n",
      "learning\n",
      " \n",
      "different\n",
      " \n",
      "engineering\n",
      " \n",
      "input\n",
      " \n",
      "possible\n",
      " \n",
      "member\n",
      " \n",
      "believe\n",
      " \n",
      "Topic 10: \n",
      "server\n",
      " \n",
      "deploy\n",
      " \n",
      "httpswwwindeedcomrgovardhanakb2de315d95905b68isidrexdownloadikwdownloadtopcoin\n",
      " \n",
      "matter\n",
      " \n",
      "build\n",
      " \n",
      "chef\n",
      " \n",
      "database\n",
      " \n",
      "Topic 11: \n",
      "requirement\n",
      " \n",
      "matter\n",
      " \n",
      "candidate\n",
      " \n",
      "store\n",
      " \n",
      "online\n",
      " \n",
      "cgc\n",
      " \n",
      "hunter\n",
      " \n",
      "Topic 12: \n",
      "form\n",
      " \n",
      "utilise\n",
      " \n",
      "deploy\n",
      " \n",
      "end\n",
      " \n",
      "payment\n",
      " \n",
      "hold\n",
      " \n",
      "member\n",
      " \n",
      "Topic 13: \n",
      "sale\n",
      " \n",
      "client\n",
      " \n",
      "engineering\n",
      " \n",
      "input\n",
      " \n",
      "possible\n",
      " \n",
      "develop\n",
      " \n",
      "task\n",
      " \n",
      "Topic 14: \n",
      "transaction\n",
      " \n",
      "reward\n",
      " \n",
      "order\n",
      " \n",
      "testing\n",
      " \n",
      "store\n",
      " \n",
      "end\n",
      " \n",
      "matter\n",
      " \n",
      "Topic 15: \n",
      "management\n",
      " \n",
      "process\n",
      " \n",
      "order\n",
      " \n",
      "training\n",
      " \n",
      "build\n",
      " \n",
      "ensure\n",
      " \n",
      "coordinator\n",
      " \n",
      "Topic 16: \n",
      "automation\n",
      " \n",
      "technique\n",
      " \n",
      "image\n",
      " \n",
      "migrate\n",
      " \n",
      "link\n",
      " \n",
      "css\n",
      " \n",
      "framework\n",
      " \n",
      "Topic 17: \n",
      "build\n",
      " \n",
      "automate\n",
      " \n",
      "chef\n",
      " \n",
      "clinical\n",
      " \n",
      "teaching\n",
      " \n",
      "trial\n",
      " \n",
      "deployment\n",
      " \n",
      "Topic 18: \n",
      "expense\n",
      " \n",
      "country\n",
      " \n",
      "employee\n",
      " \n",
      "portal\n",
      " \n",
      "end\n",
      " \n",
      "limited\n",
      " \n",
      "high\n",
      " \n",
      "Topic 19: \n",
      "sale\n",
      " \n",
      "build\n",
      " \n",
      "closure\n",
      " \n",
      "complete\n",
      " \n",
      "framework\n",
      " \n",
      "client\n",
      " \n",
      "analyst\n",
      " \n",
      "Topic 20: \n",
      "automation\n",
      " \n",
      "report\n",
      " \n",
      "testing\n",
      " \n",
      "message\n",
      " \n",
      "develop\n",
      " \n",
      "object\n",
      " \n",
      "page\n",
      " \n"
     ]
    }
   ],
   "source": [
    "terms = vectorizer.get_feature_names()\n",
    "\n",
    "for i, comp in enumerate(svd_model.components_):\n",
    "    terms_comp = zip(terms, comp)\n",
    "    sorted_terms = sorted(terms_comp, key= lambda x:x[1], reverse=True)[:7]\n",
    "    print(\"Topic \"+str(i)+\": \")\n",
    "    for t in sorted_terms:\n",
    "        print(t[0])\n",
    "        print(\" \")"
   ]
  },
  {
   "cell_type": "code",
   "execution_count": 45,
   "metadata": {},
   "outputs": [
    {
     "data": {
      "image/png": "[encoded data removed]",
      "text/plain": [
       "<Figure size 504x360 with 1 Axes>"
      ]
     },
     "metadata": {
      "needs_background": "light"
     },
     "output_type": "display_data"
    }
   ],
   "source": [
    "X_topics = svd_model.fit_transform(X)\n",
    "embedding = umap.UMAP(n_neighbors=10, min_dist=0.5, random_state=12).fit_transform(X_topics)\n",
    "\n",
    "plt.figure(figsize=(7,5))\n",
    "plt.scatter(embedding[:, 0], embedding[:, 1], \n",
    "c = [a for a in range(21)],\n",
    "s = 10, # size\n",
    "edgecolor='none'\n",
    ")\n",
    "plt.show()"
   ]
  },
  {
   "cell_type": "code",
   "execution_count": 49,
   "metadata": {},
   "outputs": [
    {
     "data": {
      "text/plain": [
       "(21, 2)"
      ]
     },
     "execution_count": 49,
     "metadata": {},
     "output_type": "execute_result"
    }
   ],
   "source": [
    "embedding.shape"
   ]
  },
  {
   "cell_type": "code",
   "execution_count": 57,
   "metadata": {},
   "outputs": [],
   "source": [
    "# embedding"
   ]
  },
  {
   "cell_type": "markdown",
   "metadata": {},
   "source": [
    " sklearn.metrics.pairwise.cosine_similarity(X, Y=None, dense_output=True)"
   ]
  },
  {
   "cell_type": "code",
   "execution_count": 50,
   "metadata": {},
   "outputs": [],
   "source": [
    "from sklearn.metrics.pairwise import cosine_similarity as cos"
   ]
  },
  {
   "cell_type": "code",
   "execution_count": 66,
   "metadata": {},
   "outputs": [],
   "source": [
    "similar = cos(embedding[1].reshape(1,-1),embedding[2].reshape(1,-1))"
   ]
  },
  {
   "cell_type": "code",
   "execution_count": 67,
   "metadata": {},
   "outputs": [
    {
     "data": {
      "text/plain": [
       "array([[0.99949014]], dtype=float32)"
      ]
     },
     "execution_count": 67,
     "metadata": {},
     "output_type": "execute_result"
    }
   ],
   "source": [
    "similar"
   ]
  },
  {
   "cell_type": "code",
   "execution_count": 68,
   "metadata": {},
   "outputs": [],
   "source": [
    "import scipy"
   ]
  },
  {
   "cell_type": "code",
   "execution_count": 72,
   "metadata": {},
   "outputs": [
    {
     "data": {
      "text/plain": [
       "0.9999192357063293"
      ]
     },
     "execution_count": 72,
     "metadata": {},
     "output_type": "execute_result"
    }
   ],
   "source": [
    "1-scipy.spatial.distance.cosine(embedding[1], embedding[6])"
   ]
  },
  {
   "cell_type": "code",
   "execution_count": null,
   "metadata": {},
   "outputs": [],
   "source": []
  }
 ],
 "metadata": {
  "kernelspec": {
   "display_name": "Python 3",
   "language": "python",
   "name": "python3"
  },
  "language_info": {
   "codemirror_mode": {
    "name": "ipython",
    "version": 3
   },
   "file_extension": ".py",
   "mimetype": "text/x-python",
   "name": "python",
   "nbconvert_exporter": "python",
   "pygments_lexer": "ipython3",
   "version": "3.8.2"
  }
 },
 "nbformat": 4,
 "nbformat_minor": 4
}

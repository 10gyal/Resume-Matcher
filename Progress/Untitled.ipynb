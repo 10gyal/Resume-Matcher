{
 "cells": [
  {
   "cell_type": "code",
   "execution_count": 1,
   "metadata": {},
   "outputs": [],
   "source": [
    "import numpy as np\n",
    "import matplotlib.pyplot as plt\n",
    "import spacy\n",
    "import gensim \n",
    "import Distill\n",
    "import nltk\n",
    "import abydos"
   ]
  },
  {
   "cell_type": "code",
   "execution_count": 2,
   "metadata": {},
   "outputs": [],
   "source": [
    "nlp = spacy.load('en_vectors_web_lg')"
   ]
  },
  {
   "cell_type": "code",
   "execution_count": 3,
   "metadata": {},
   "outputs": [],
   "source": [
    "import pandas as pd\n",
    "Dataset = pd.read_json(\"../Dataset/Resume_1.json\")"
   ]
  },
  {
   "cell_type": "code",
   "execution_count": 4,
   "metadata": {},
   "outputs": [],
   "source": [
    "Data = []\n",
    "Data_label = []\n",
    "def read_dataset_return_list(Dataset):\n",
    "    # must be a pandas DataFrame Object\n",
    "    for i in Dataset.columns:\n",
    "        Data.append(Dataset[i][0])\n",
    "        Data_label.append(i)\n",
    "\n",
    "read_dataset_return_list(Dataset)"
   ]
  },
  {
   "cell_type": "code",
   "execution_count": 8,
   "metadata": {},
   "outputs": [],
   "source": [
    "def clean_text(text):\n",
    "    text = Distill.tokenize(text)\n",
    "    text = Distill.remove_stopwords(text)\n",
    "    text = Distill.remove_tags(text)\n",
    "    text = Distill.lemmatize(text)\n",
    "    text = set(text)\n",
    "    return list(text)\n",
    "\n",
    "\n",
    "# Preprocessing Pipeline\n",
    "cleaned = []\n",
    "cleaned_text = []\n",
    "for i in Data:\n",
    "    cleaned.append(clean_text(i))\n",
    "    cleaned_text.append(clean_text(i))\n",
    "\n",
    "\n",
    "doc = []\n",
    "for i in range(len(cleaned)):\n",
    "    t = ' '.join(cleaned[i])\n",
    "    doc.append(t)"
   ]
  },
  {
   "cell_type": "code",
   "execution_count": 10,
   "metadata": {},
   "outputs": [],
   "source": [
    "res1 = nlp(doc[0])\n",
    "res2 = nlp(doc[1])\n",
    "res3 = nlp(doc[2])\n",
    "res4 = nlp(doc[3])"
   ]
  },
  {
   "cell_type": "code",
   "execution_count": 23,
   "metadata": {},
   "outputs": [],
   "source": [
    "res_vc = []\n",
    "for a in res1:\n",
    "    res_vc.append(a.vector_norm)"
   ]
  },
  {
   "cell_type": "code",
   "execution_count": 22,
   "metadata": {},
   "outputs": [
    {
     "data": {
      "text/plain": [
       "2.971755240084017"
      ]
     },
     "execution_count": 22,
     "metadata": {},
     "output_type": "execute_result"
    }
   ],
   "source": [
    "res2.vector_norm"
   ]
  },
  {
   "cell_type": "code",
   "execution_count": 38,
   "metadata": {},
   "outputs": [],
   "source": [
    "res_vc2 = []\n",
    "for a in res2:\n",
    "    res_vc2.append(a.vector_norm)"
   ]
  },
  {
   "cell_type": "code",
   "execution_count": 39,
   "metadata": {},
   "outputs": [],
   "source": [
    "from scipy.spatial.distance import cosine as cosd"
   ]
  },
  {
   "cell_type": "code",
   "execution_count": 46,
   "metadata": {},
   "outputs": [
    {
     "data": {
      "text/plain": [
       "0.06279652537014013"
      ]
     },
     "execution_count": 46,
     "metadata": {},
     "output_type": "execute_result"
    }
   ],
   "source": [
    "cosd(res_vc[:140], res_vc2[:140])"
   ]
  },
  {
   "cell_type": "code",
   "execution_count": 43,
   "metadata": {},
   "outputs": [
    {
     "data": {
      "text/plain": [
       "335"
      ]
     },
     "execution_count": 43,
     "metadata": {},
     "output_type": "execute_result"
    }
   ],
   "source": [
    "len(res_vc)"
   ]
  },
  {
   "cell_type": "code",
   "execution_count": 37,
   "metadata": {},
   "outputs": [
    {
     "data": {
      "text/plain": [
       "6.486237"
      ]
     },
     "execution_count": 37,
     "metadata": {},
     "output_type": "execute_result"
    }
   ],
   "source": [
    "res2[0].vector_norm"
   ]
  },
  {
   "cell_type": "code",
   "execution_count": 48,
   "metadata": {},
   "outputs": [
    {
     "name": "stdout",
     "output_type": "stream",
     "text": [
      "Akhil Yadav Polemaina\n",
      "Hyderabad, Telangana - Email me on Indeed: indeed.com/r/Akhil-Yadav-Polemaina/\n",
      "f6931801c51c63b1\n",
      "\n",
      "● Senior System Engineer at Infosys with 3.2 years of experience in software development and\n",
      "Maintenance.\n",
      "● Maintained data processing using mainframe technology for multiple front end applications of\n",
      "Walmart Retail Link platform and ensured on-time deliverables.\n",
      "● Worked on automating the uses cases to reduce manual effort in solving repeating incidents\n",
      "using Service Now orchestration.\n",
      "● Possess good analytical, logical ability and systematic approach to problem analysis, strong\n",
      "debugging and troubleshooting skills.\n",
      "● Good exposure to Retail domain.\n",
      "\n",
      "Willing to relocate to: hyderbad, Telangana\n",
      "\n",
      "WORK EXPERIENCE\n",
      "\n",
      "Senior Systems Engineer\n",
      "\n",
      "Infosys Limited -  Hyderabad, Telangana -\n",
      "\n",
      "January 2015 to Present\n",
      "\n",
      "● Working on all the Major and Minor Enhancement requests as part of Maintenance and Support\n",
      "activities\n",
      "● Identifying and fixing all the major defects in the applications, perform root cause analysis for\n",
      "production issues\n",
      "● Being a subject matter expert, involved in multiple Knowledge transfer and knowledge sharing\n",
      "sessions with the client\n",
      "● Leading a peer group and taking end to end responsibilities for all the critical issues/\n",
      "enhancements.\n",
      "● Identifying the use cases which can be automated using Service Now Orchestration\n",
      "● Creating workflows to automate various tasks which involved manual intervention\n",
      "● Direct interaction with the client on various business impacting issues on a daily basis\n",
      "● Setting up Weekly Status Review meetings and Code Review meetings with the client\n",
      "\n",
      "Senior Systems Engineer\n",
      "\n",
      "Infosys Limited -  Hyderabad, Telangana -\n",
      "\n",
      "January 2015 to Present\n",
      "\n",
      "Team Size # 5\n",
      "Project Objective:\n",
      "Providing end to end Maintenance and Support activity for data processing of the most critical and\n",
      "important Web portal 'Retail Link' along with over 40 applications used daily by all the Suppliers\n",
      "and Business users of Walmart, the largest retailer in the world. Retail link is a portal which hosts\n",
      "100's of applications developed across technologies for the suppliers which help them to carry\n",
      "on day-to-day activities right from on boarding to tracking their sales. This involves supporting\n",
      "\n",
      "https://www.indeed.com/r/Akhil-Yadav-Polemaina/f6931801c51c63b1?isid=rex-download&ikw=download-top&co=IN\n",
      "https://www.indeed.com/r/Akhil-Yadav-Polemaina/f6931801c51c63b1?isid=rex-download&ikw=download-top&co=IN\n",
      "\n",
      "\n",
      "various Decision Support System reports which helps the higher management to take business\n",
      "critical decisions.\n",
      "\n",
      "Responsibilities:\n",
      "● Working on all the Major and Minor Enhancement requests as part of Maintenance and Support\n",
      "activities\n",
      "● Identifying and fixing all the major defects in the applications, perform root cause analysis for\n",
      "production issues\n",
      "● Being a subject matter expert, involved in multiple Knowledge transfer and knowledge sharing\n",
      "sessions with the client\n",
      "● Leading a peer group and taking end to end responsibilities for all the critical issues/\n",
      "enhancements.\n",
      "● Identifying the use cases which can be automated using Service Now Orchestration\n",
      "● Creating workflows to automate various tasks which involved manual intervention\n",
      "● Direct interaction with the client on various business impacting issues on a daily basis\n",
      "● Setting up Weekly Status Review meetings and Code Review meetings with the client\n",
      "\n",
      "EDUCATION\n",
      "\n",
      "Electrical and Electronics Engineering\n",
      "\n",
      "Anurag College of Engineering (Jntuh)\n",
      "\n",
      "SKILLS\n",
      "\n",
      "servicenow (1 year), Mainframe (3 years), cobol (3 years), Jcl (3 years), Teradata (3 years)\n",
      "\n",
      "ADDITIONAL INFORMATION\n",
      "\n",
      "Technical Skills\n",
      "• Domain - Retail\n",
      "• Technology - Mainframe (COBOL, JCL, DB2, Teradata), Service now.\n",
      "• Operating System - Mainframe (z/OS)\n",
      "• Database - DB2, SQL, Teradata.\n",
      "• Utilities - FILE-AID, IDCAMS, DFSORT basics, LIBRARIAN, FTP/SFTP, CA-7 basics.\n",
      "• Tools - Query Management Tool (QMF), SQL Assistant, Service now, Remedy.\n",
      "\n",
      "Key Strengths:\n",
      "● Effective Communication Skills and Zeal to learn.\n",
      "● Flexibility and Adaptability.\n",
      "● Good Leadership Qualities.\n",
      "● Analytical and Problem Solving Skills.\n",
      "\n",
      "Achievements:\n",
      "● Received STAR award for working on various system improvement and automation activities\n",
      "● Received multiple INSTA awards for my performance in the projects worked\n"
     ]
    }
   ],
   "source": [
    "print(Data[1])"
   ]
  },
  {
   "cell_type": "code",
   "execution_count": null,
   "metadata": {},
   "outputs": [],
   "source": []
  }
 ],
 "metadata": {
  "kernelspec": {
   "display_name": "Python 3",
   "language": "python",
   "name": "python3"
  },
  "language_info": {
   "codemirror_mode": {
    "name": "ipython",
    "version": 3
   },
   "file_extension": ".py",
   "mimetype": "text/x-python",
   "name": "python",
   "nbconvert_exporter": "python",
   "pygments_lexer": "ipython3",
   "version": "3.8.2"
  }
 },
 "nbformat": 4,
 "nbformat_minor": 4
}

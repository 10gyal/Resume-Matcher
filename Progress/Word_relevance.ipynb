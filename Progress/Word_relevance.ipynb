{
 "cells": [
  {
   "cell_type": "code",
   "execution_count": 1,
   "metadata": {},
   "outputs": [],
   "source": [
    "import pandas as pd\n"
   ]
  },
  {
   "cell_type": "code",
   "execution_count": 17,
   "metadata": {},
   "outputs": [],
   "source": [
    "Data = pd.read_csv('Resume_data.csv')"
   ]
  },
  {
   "cell_type": "code",
   "execution_count": 18,
   "metadata": {},
   "outputs": [],
   "source": [
    "from sklearn.feature_extraction.text import TfidfVectorizer \n",
    " \n",
    "def get_scores(token):\n",
    "    tfidf_vectorizer=TfidfVectorizer(max_df=0.05, min_df=0.001) \n",
    "    tfidf_vectorizer_vectors=tfidf_vectorizer.fit_transform(token)\n",
    "    first_vector_tfidfvectorizer=tfidf_vectorizer_vectors[0]\n",
    "    df = pd.DataFrame(first_vector_tfidfvectorizer.T.todense(), index=tfidf_vectorizer.get_feature_names(), columns=[\"tfidf\"])\n",
    "    df = df.sort_values(by=[\"tfidf\"],ascending=False)\n",
    "    return df"
   ]
  },
  {
   "cell_type": "code",
   "execution_count": 19,
   "metadata": {},
   "outputs": [],
   "source": [
    "# get the first vector out (for the first document) \n",
    "sdf = get_scores(Data['Cleaned'][0].split(\" \"))\n",
    " \n",
    "# place tf-idf values in a pandas data frame \n",
    "\n"
   ]
  },
  {
   "cell_type": "code",
   "execution_count": 21,
   "metadata": {},
   "outputs": [
    {
     "data": {
      "text/plain": [
       "0     accuracy achieve acquire active actively alank...\n",
       "1     730aca854657000679last accuracy active activel...\n",
       "2     6c4b0bb78deb4912bd26b1a8a5f0218blast active al...\n",
       "3     12c 2nd accord active amruta android api app a...\n",
       "4     09e93b7a617e329a87last 9sep20 active agile all...\n",
       "5     1sep20 accuracy active ambedkar analyse analys...\n",
       "6     abhishek active airflow area article automate ...\n",
       "7     active application architect area aspnet aug a...\n",
       "8     0196ef52240b916a74last active adabooste adapti...\n",
       "9     11sep20last access accordinglly active activit...\n",
       "10    11sep20last active administrationperformance a...\n",
       "11    accuracy aerospace ai algorithm algorithms ana...\n",
       "12    21c5d05765c7180c58last 45xx 7sep20 active ad a...\n",
       "13    accuracy active activity administration admini...\n",
       "14    863c41556ec744d7b178c3c114e76e35last 9sep20 ac...\n",
       "15    04a3bcbf1231f98382last accessibility active aj...\n",
       "16    11sep20last 72beef2a10740d8848last access acco...\n",
       "17    accordingly active adobe ajax ambedkar angular...\n",
       "18    11sep20last abul access active actively activi...\n",
       "19    active adsense ajax analytic apache applicatio...\n",
       "20    07year 1providing accuracy active address afte...\n",
       "Name: TF_Based, dtype: object"
      ]
     },
     "execution_count": 21,
     "metadata": {},
     "output_type": "execute_result"
    }
   ],
   "source": [
    "Data['TF_Based']"
   ]
  },
  {
   "cell_type": "code",
   "execution_count": null,
   "metadata": {},
   "outputs": [],
   "source": []
  },
  {
   "cell_type": "code",
   "execution_count": 20,
   "metadata": {},
   "outputs": [
    {
     "data": {
      "text/html": [
       "<div>\n",
       "<style scoped>\n",
       "    .dataframe tbody tr th:only-of-type {\n",
       "        vertical-align: middle;\n",
       "    }\n",
       "\n",
       "    .dataframe tbody tr th {\n",
       "        vertical-align: top;\n",
       "    }\n",
       "\n",
       "    .dataframe thead th {\n",
       "        text-align: right;\n",
       "    }\n",
       "</style>\n",
       "<table border=\"1\" class=\"dataframe\">\n",
       "  <thead>\n",
       "    <tr style=\"text-align: right;\">\n",
       "      <th></th>\n",
       "      <th>tfidf</th>\n",
       "    </tr>\n",
       "  </thead>\n",
       "  <tbody>\n",
       "    <tr>\n",
       "      <th>alankrit</th>\n",
       "      <td>1.0</td>\n",
       "    </tr>\n",
       "    <tr>\n",
       "      <th>accuracy</th>\n",
       "      <td>0.0</td>\n",
       "    </tr>\n",
       "    <tr>\n",
       "      <th>r2</th>\n",
       "      <td>0.0</td>\n",
       "    </tr>\n",
       "    <tr>\n",
       "      <th>phone</th>\n",
       "      <td>0.0</td>\n",
       "    </tr>\n",
       "    <tr>\n",
       "      <th>practitioner</th>\n",
       "      <td>0.0</td>\n",
       "    </tr>\n",
       "    <tr>\n",
       "      <th>precision</th>\n",
       "      <td>0.0</td>\n",
       "    </tr>\n",
       "    <tr>\n",
       "      <th>prediction</th>\n",
       "      <td>0.0</td>\n",
       "    </tr>\n",
       "    <tr>\n",
       "      <th>pref</th>\n",
       "      <td>0.0</td>\n",
       "    </tr>\n",
       "    <tr>\n",
       "      <th>preprocesse</th>\n",
       "      <td>0.0</td>\n",
       "    </tr>\n",
       "    <tr>\n",
       "      <th>pretraine</th>\n",
       "      <td>0.0</td>\n",
       "    </tr>\n",
       "    <tr>\n",
       "      <th>processing</th>\n",
       "      <td>0.0</td>\n",
       "    </tr>\n",
       "    <tr>\n",
       "      <th>proficiency</th>\n",
       "      <td>0.0</td>\n",
       "    </tr>\n",
       "    <tr>\n",
       "      <th>project</th>\n",
       "      <td>0.0</td>\n",
       "    </tr>\n",
       "    <tr>\n",
       "      <th>projects</th>\n",
       "      <td>0.0</td>\n",
       "    </tr>\n",
       "    <tr>\n",
       "      <th>python</th>\n",
       "      <td>0.0</td>\n",
       "    </tr>\n",
       "    <tr>\n",
       "      <th>qualificationscertificationsprogram</th>\n",
       "      <td>0.0</td>\n",
       "    </tr>\n",
       "    <tr>\n",
       "      <th>read</th>\n",
       "      <td>0.0</td>\n",
       "    </tr>\n",
       "    <tr>\n",
       "      <th>period</th>\n",
       "      <td>0.0</td>\n",
       "    </tr>\n",
       "    <tr>\n",
       "      <th>realtime</th>\n",
       "      <td>0.0</td>\n",
       "    </tr>\n",
       "    <tr>\n",
       "      <th>recall</th>\n",
       "      <td>0.0</td>\n",
       "    </tr>\n",
       "  </tbody>\n",
       "</table>\n",
       "</div>"
      ],
      "text/plain": [
       "                                     tfidf\n",
       "alankrit                               1.0\n",
       "accuracy                               0.0\n",
       "r2                                     0.0\n",
       "phone                                  0.0\n",
       "practitioner                           0.0\n",
       "precision                              0.0\n",
       "prediction                             0.0\n",
       "pref                                   0.0\n",
       "preprocesse                            0.0\n",
       "pretraine                              0.0\n",
       "processing                             0.0\n",
       "proficiency                            0.0\n",
       "project                                0.0\n",
       "projects                               0.0\n",
       "python                                 0.0\n",
       "qualificationscertificationsprogram    0.0\n",
       "read                                   0.0\n",
       "period                                 0.0\n",
       "realtime                               0.0\n",
       "recall                                 0.0"
      ]
     },
     "execution_count": 20,
     "metadata": {},
     "output_type": "execute_result"
    }
   ],
   "source": [
    "sdf.head(20)"
   ]
  },
  {
   "cell_type": "code",
   "execution_count": null,
   "metadata": {},
   "outputs": [],
   "source": []
  },
  {
   "cell_type": "code",
   "execution_count": null,
   "metadata": {},
   "outputs": [],
   "source": []
  }
 ],
 "metadata": {
  "kernelspec": {
   "display_name": "Python 3",
   "language": "python",
   "name": "python3"
  },
  "language_info": {
   "codemirror_mode": {
    "name": "ipython",
    "version": 3
   },
   "file_extension": ".py",
   "mimetype": "text/x-python",
   "name": "python",
   "nbconvert_exporter": "python",
   "pygments_lexer": "ipython3",
   "version": "3.8.2"
  }
 },
 "nbformat": 4,
 "nbformat_minor": 4
}

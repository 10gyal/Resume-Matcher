{
 "cells": [
  {
   "cell_type": "code",
   "execution_count": 83,
   "metadata": {},
   "outputs": [],
   "source": [
    "import textdistance as td"
   ]
  },
  {
   "cell_type": "code",
   "execution_count": 2,
   "metadata": {},
   "outputs": [],
   "source": [
    "import abydos"
   ]
  },
  {
   "cell_type": "code",
   "execution_count": 3,
   "metadata": {},
   "outputs": [],
   "source": [
    "import Cleaner"
   ]
  },
  {
   "cell_type": "code",
   "execution_count": 4,
   "metadata": {},
   "outputs": [],
   "source": [
    "job = \"\"\"The position holder will be responsible for creation and implementation of a wide variety of Web-based products using PHP, JavaScript, MySQL and AJAX.\n",
    "\n",
    "Key Responsibility Areas:\n",
    "\n",
    "Create, design and modify websites to suit the requirements of a client.\n",
    "PHP Developers need to have a thorough knowledge of developing cross platforms that are compatible with Web, mobile Web applications.\n",
    "Sound knowledge & working experience on PHP & shall be hands on database and programming experience.\n",
    "Additional skill-sets of OOPS concept, PHP, LAMP technologies, XML, HTML, CSS, Javascript, JQuery, Ajax.\n",
    "Good understanding of Oracle PL/SQL\n",
    "Relevant software architecture, software development, and software testing experience\n",
    "Should have ability to work as a team with business owner, developers, designers & testers.\n",
    "Qulification:\n",
    "\n",
    "B. Tech with minimum 60%\n",
    "10th and 12th with minimum 75%\n",
    "Experience:\n",
    "\n",
    "1 -3 years of PHP development experience.\n",
    "Skill Sets/ Requirements:\n",
    "\n",
    "Experience with PHP Programming on Open Source Tools.\n",
    "Implementation of eCommerce Projects\n",
    "Good command over AJAX & Database SQL programming.\n",
    "Experience with PHP Programming on Open Source Tools\n",
    "Knowledge of PHP, HTML5, CSS, Javascript, AJAX\n",
    "Good Knowledge of object oriented programming\n",
    "Knowledge in java script libraries (Jquery, Prototype)\n",
    "Effective communication & comprehension skill\n",
    "Understand Severity and Priority needs\n",
    "Time Management\n",
    "Quick decision making\"\"\""
   ]
  },
  {
   "cell_type": "code",
   "execution_count": 101,
   "metadata": {},
   "outputs": [],
   "source": [
    "resume_fake_2 = \"\"\"The position holder will be responsible for creation and implementation of a wide variety of Web-based products using PHP, JavaScript, MySQL and AJAX.\n",
    "\n",
    "Key Responsibility Areas:\n",
    "\n",
    "Create, design and modify websites to suit the requirements of a client.\n",
    "PHP Developers need to have a thorough knowledge of developing cross platforms that are compatible with Web, mobile Web applications.\n",
    "Sound knowledge & working experience on PHP & shall be hands on database and programming experience.\n",
    "Additional skill-sets of OOPS concept, PHP, LAMP technologies, XML, HTML, CSS, Javascript, JQuery, Ajax.\n",
    "Good understanding of Oracle PL/SQL\n",
    "Relevant software architecture, software development, and software testing experience\n",
    "Should have ability to work as a team with business owner, developers, designers & testers.\n",
    "Qulification:\n",
    "\n",
    "B. Tech with minimum 60%\n",
    "10th and 12th with minimum 75%\n",
    "Experience:\n",
    "Summary\n",
    "Percuing MCA in 2nd year with 1 years experience in Software Development,Web Application Development,Project Management,Unit Testing,Software Design,C,C++,Core Java,C#,Asp.Net,MVC,XML,Html,JavaScript. \n",
    "\n",
    " \n",
    "Work Experience\n",
    " krisol infosoft as Junior Web Developer\n",
    "Jan 2019 to Jan 2020\n",
    "The role is responsible for designing, coding and modifying websites, from layout to function and according to a client's specifications.\n",
    "Writing well designed, testable, efficient code by using best software development.Handling Client queries and working on both development and Support Team.\n",
    " \n",
    " Krisol Infosoft as Junior Web Developer\n",
    "Jan 2019 to Till Date\n",
    "The role is responsible for designing, coding and modifying websites, from layout to function and according to a client's specifications.\n",
    "Writing well designed, testable, efficient code by using best software development.Handling Client queries and working on both development and Support Team.\n",
    " \n",
    " Krisol Infosoft Pvt. Ltd as Jr. Web Developer\n",
    "Jan 2019 to Jan 2020\n",
    "*     Developing in-house ERP projects in ASP.NET and SQL/Oracle\n",
    "*     Worked on telerik applications\n",
    "*     Responsible for the developing in-house ERP projects in (ASP.NET+SQL), (ASP.NET+ oracle 12c), API projects for supporting android app. Worked on web services\n",
    "*     Handling the problem and troubleshooting\n",
    "*     Unit Testing and Documentations\n",
    "*     Directing or performing Website updates\n",
    "*     Website and software application designing, building, or maintaining\n",
    " \n",
    "^ Back to Top\n",
    " \n",
    "Education\n",
    "UG: B.Sc (Computers) from Mumbai University in 2016\n",
    "PG: MCA (Computers), Correspondence/Distance Learning from Mumbai University in 2020\n",
    "Other Qualifications/Certifications/Programs:\n",
    "*     Certified with SCTST-JAVA from Seed Infotech including C, SQL, J2SE, and J2EE.\n",
    " \n",
    " \n",
    "^ Back to Top\n",
    " \n",
    "IT Skills\n",
    "Skill Name\tVersion\tLast Used\tExperience\n",
    "C, C++, Core Java, C#,Asp.Net with MVC\t\t\t\n",
    "SQL (Oracle 12C)\t\t\t\n",
    "XML, HTML, JavaScript\t\t\t\n",
    "Eclipse, Microsoft Visual Studio 2017\t\t\t\n",
    "WINDOWS\t\t\t\n",
    "^ Back to Top\n",
    "Languages Known\n",
    "Language\tProficiency\tRead\tWrite\tSpeak\n",
    "English\t\t \t \t \n",
    "Hindi\t\t \t \t \n",
    "Marathi\t\t \t \n",
    "1 -3 years of PHP development experience.\n",
    "Skill Sets/ Requirements:\n",
    "\n",
    "Experience with PHP Programming on Open Source Tools.\n",
    "Implementation of eCommerce Projects\n",
    "Good command over AJAX & Database SQL programming.\n",
    "Experience with PHP Programming on Open Source Tools\n",
    "Knowledge of PHP, HTML5, CSS, Javascript, AJAX\n",
    "Good Knowledge of object oriented programming\n",
    "Knowledge in java script libraries (Jquery, Prototype)\n",
    "Effective communication & comprehension skill\n",
    "Understand Severity and Priority needs\n",
    "Time Management\n",
    "Quick decision making \n",
    "\"\"\""
   ]
  },
  {
   "cell_type": "code",
   "execution_count": 34,
   "metadata": {},
   "outputs": [],
   "source": [
    "resume_fake = \"\"\"\n",
    "Mathew Mathias\n",
    "Web Developer\n",
    "\n",
    "1-3 years of experience in Web-based products using PHP, JavaScript, MySQL and AJAX. Creating websites for clients using AJAX, HTML5, CSS and JavaScript. Sound knowledge & working experience on PHP & shall be hands on database and programming experience. Additional skill-sets of OOPS concept, PHP, LAMP technologies, XML, HTML, CSS, Javascript, JQuery, Ajax.\n",
    "\n",
    "WORK EXPERIENCE\n",
    "\n",
    "Senior Systems Engineer\n",
    "\n",
    "Infosys Limited -  Hyderabad, Telangana -\n",
    "\n",
    "January 2015 to Present\n",
    "\n",
    "Working on Major web based technologies as React, Front End, Java Script, and PHP\n",
    "\n",
    "Senior Systems Engineer\n",
    "\n",
    "Infosys Limited -  Hyderabad, Telangana -\n",
    "\n",
    "January 2015 to Present\n",
    "\n",
    "Team Size # 5\n",
    "Project Objective:\n",
    "Providing end to end Maintenance and Support activity for data processing of the most critical and\n",
    "important Web portal 'Retail Link' along with over 40 applications used daily by all the Suppliers\n",
    "and Business users of Walmart, the largest retailer in the world. Retail link is a portal which hosts\n",
    "100's of applications developed across technologies for the suppliers which help them to carry\n",
    "on day-to-day activities right from on boarding to tracking their sales. This involves supporting\n",
    "\n",
    "Additional skills\n",
    "\n",
    "Experience with PHP Programming on Open Source Tools.\n",
    "Implementation of eCommerce Projects\n",
    "Good command over AJAX & Database SQL programming.\n",
    "Experience with PHP Programming on Open Source Tools\n",
    "Knowledge of PHP, HTML5, CSS, Javascript, AJAX\n",
    "Good Knowledge of object oriented programming\n",
    "Knowledge in java script libraries (Jquery, Prototype)\n",
    "Effective communication & comprehension skill\n",
    "Understand Severity and Priority needs\n",
    "\n",
    "\n",
    "\n",
    "\"\"\""
   ]
  },
  {
   "cell_type": "code",
   "execution_count": 5,
   "metadata": {},
   "outputs": [],
   "source": [
    "resume_1 = \"\"\"\n",
    "Akhil Yadav Polemaina\n",
    "Hyderabad, Telangana - Email me on Indeed: indeed.com/r/Akhil-Yadav-Polemaina/\n",
    "f6931801c51c63b1\n",
    "\n",
    "● Senior System Engineer at Infosys with 3.2 years of experience in software development and\n",
    "Maintenance.\n",
    "● Maintained data processing using mainframe technology for multiple front end applications of\n",
    "Walmart Retail Link platform and ensured on-time deliverables.\n",
    "● Worked on automating the uses cases to reduce manual effort in solving repeating incidents\n",
    "using Service Now orchestration.\n",
    "● Possess good analytical, logical ability and systematic approach to problem analysis, strong\n",
    "debugging and troubleshooting skills.\n",
    "● Good exposure to Retail domain.\n",
    "\n",
    "Willing to relocate to: hyderbad, Telangana\n",
    "\n",
    "WORK EXPERIENCE\n",
    "\n",
    "Senior Systems Engineer\n",
    "\n",
    "Infosys Limited -  Hyderabad, Telangana -\n",
    "\n",
    "January 2015 to Present\n",
    "\n",
    "● Working on all the Major and Minor Enhancement requests as part of Maintenance and Support\n",
    "activities\n",
    "● Identifying and fixing all the major defects in the applications, perform root cause analysis for\n",
    "production issues\n",
    "● Being a subject matter expert, involved in multiple Knowledge transfer and knowledge sharing\n",
    "sessions with the client\n",
    "● Leading a peer group and taking end to end responsibilities for all the critical issues/\n",
    "enhancements.\n",
    "● Identifying the use cases which can be automated using Service Now Orchestration\n",
    "● Creating workflows to automate various tasks which involved manual intervention\n",
    "● Direct interaction with the client on various business impacting issues on a daily basis\n",
    "● Setting up Weekly Status Review meetings and Code Review meetings with the client\n",
    "\n",
    "Senior Systems Engineer\n",
    "\n",
    "Infosys Limited -  Hyderabad, Telangana -\n",
    "\n",
    "January 2015 to Present\n",
    "\n",
    "Team Size # 5\n",
    "Project Objective:\n",
    "Providing end to end Maintenance and Support activity for data processing of the most critical and\n",
    "important Web portal 'Retail Link' along with over 40 applications used daily by all the Suppliers\n",
    "and Business users of Walmart, the largest retailer in the world. Retail link is a portal which hosts\n",
    "100's of applications developed across technologies for the suppliers which help them to carry\n",
    "on day-to-day activities right from on boarding to tracking their sales. This involves supporting\n",
    "\n",
    "https://www.indeed.com/r/Akhil-Yadav-Polemaina/f6931801c51c63b1?isid=rex-download&amp;ikw=download-top&amp;co=IN\n",
    "https://www.indeed.com/r/Akhil-Yadav-Polemaina/f6931801c51c63b1?isid=rex-download&amp;ikw=download-top&amp;co=IN\n",
    "\n",
    "\n",
    "various Decision Support System reports which helps the higher management to take business\n",
    "critical decisions.\n",
    "\n",
    "Responsibilities:\n",
    "● Working on all the Major and Minor Enhancement requests as part of Maintenance and Support\n",
    "activities\n",
    "● Identifying and fixing all the major defects in the applications, perform root cause analysis for\n",
    "production issues\n",
    "● Being a subject matter expert, involved in multiple Knowledge transfer and knowledge sharing\n",
    "sessions with the client\n",
    "● Leading a peer group and taking end to end responsibilities for all the critical issues/\n",
    "enhancements.\n",
    "● Identifying the use cases which can be automated using Service Now Orchestration\n",
    "● Creating workflows to automate various tasks which involved manual intervention\n",
    "● Direct interaction with the client on various business impacting issues on a daily basis\n",
    "● Setting up Weekly Status Review meetings and Code Review meetings with the client\n",
    "\n",
    "EDUCATION\n",
    "\n",
    "Electrical and Electronics Engineering\n",
    "\n",
    "Anurag College of Engineering (Jntuh)\n",
    "\n",
    "SKILLS\n",
    "\n",
    "servicenow (1 year), Mainframe (3 years), cobol (3 years), Jcl (3 years), Teradata (3 years)\n",
    "\n",
    "ADDITIONAL INFORMATION\n",
    "\n",
    "Technical Skills\n",
    "• Domain - Retail\n",
    "• Technology - Mainframe (COBOL, JCL, DB2, Teradata), Service now.\n",
    "• Operating System - Mainframe (z/OS)\n",
    "• Database - DB2, SQL, Teradata.\n",
    "• Utilities - FILE-AID, IDCAMS, DFSORT basics, LIBRARIAN, FTP/SFTP, CA-7 basics.\n",
    "• Tools - Query Management Tool (QMF), SQL Assistant, Service now, Remedy.\n",
    "\n",
    "Key Strengths:\n",
    "● Effective Communication Skills and Zeal to learn.\n",
    "● Flexibility and Adaptability.\n",
    "● Good Leadership Qualities.\n",
    "● Analytical and Problem Solving Skills.\n",
    "\n",
    "Achievements:\n",
    "● Received STAR award for working on various system improvement and automation activities\n",
    "● Received multiple INSTA awards for my performance in the projects worked\n",
    "\"\"\""
   ]
  },
  {
   "cell_type": "code",
   "execution_count": 27,
   "metadata": {},
   "outputs": [],
   "source": [
    "cluster_2 = \"\"\"\n",
    "Summary\n",
    "Percuing MCA in 2nd year with 1 years experience in Software Development,Web Application Development,Project Management,Unit Testing,Software Design,C,C++,Core Java,C#,Asp.Net,MVC,XML,Html,JavaScript. \n",
    "\n",
    " \n",
    "Work Experience\n",
    " krisol infosoft as Junior Web Developer\n",
    "Jan 2019 to Jan 2020\n",
    "The role is responsible for designing, coding and modifying websites, from layout to function and according to a client's specifications.\n",
    "Writing well designed, testable, efficient code by using best software development.Handling Client queries and working on both development and Support Team.\n",
    " \n",
    " Krisol Infosoft as Junior Web Developer\n",
    "Jan 2019 to Till Date\n",
    "The role is responsible for designing, coding and modifying websites, from layout to function and according to a client's specifications.\n",
    "Writing well designed, testable, efficient code by using best software development.Handling Client queries and working on both development and Support Team.\n",
    " \n",
    " Krisol Infosoft Pvt. Ltd as Jr. Web Developer\n",
    "Jan 2019 to Jan 2020\n",
    "*     Developing in-house ERP projects in ASP.NET and SQL/Oracle\n",
    "*     Worked on telerik applications\n",
    "*     Responsible for the developing in-house ERP projects in (ASP.NET+SQL), (ASP.NET+ oracle 12c), API projects for supporting android app. Worked on web services\n",
    "*     Handling the problem and troubleshooting\n",
    "*     Unit Testing and Documentations\n",
    "*     Directing or performing Website updates\n",
    "*     Website and software application designing, building, or maintaining\n",
    " \n",
    "^ Back to Top\n",
    " \n",
    "Education\n",
    "UG: B.Sc (Computers) from Mumbai University in 2016\n",
    "PG: MCA (Computers), Correspondence/Distance Learning from Mumbai University in 2020\n",
    "Other Qualifications/Certifications/Programs:\n",
    "*     Certified with SCTST-JAVA from Seed Infotech including C, SQL, J2SE, and J2EE.\n",
    " \n",
    " \n",
    "^ Back to Top\n",
    " \n",
    "IT Skills\n",
    "Skill Name\tVersion\tLast Used\tExperience\n",
    "C, C++, Core Java, C#,Asp.Net with MVC\t\t\t\n",
    "SQL (Oracle 12C)\t\t\t\n",
    "XML, HTML, JavaScript\t\t\t\n",
    "Eclipse, Microsoft Visual Studio 2017\t\t\t\n",
    "WINDOWS\t\t\t\n",
    "^ Back to Top\n",
    "Languages Known\n",
    "Language\tProficiency\tRead\tWrite\tSpeak\n",
    "English\t\t \t \t \n",
    "Hindi\t\t \t \t \n",
    "Marathi\t\t \t \"\"\""
   ]
  },
  {
   "cell_type": "code",
   "execution_count": 7,
   "metadata": {},
   "outputs": [],
   "source": [
    "J = Cleaner.Cleaner(job)"
   ]
  },
  {
   "cell_type": "code",
   "execution_count": 10,
   "metadata": {},
   "outputs": [],
   "source": [
    "R1 = Cleaner.Cleaner(resume_1)"
   ]
  },
  {
   "cell_type": "code",
   "execution_count": 28,
   "metadata": {},
   "outputs": [],
   "source": [
    "R2 = Cleaner.Cleaner(cluster_2)"
   ]
  },
  {
   "cell_type": "code",
   "execution_count": 35,
   "metadata": {},
   "outputs": [],
   "source": [
    "R3 = Cleaner.Cleaner(resume_fake)"
   ]
  },
  {
   "cell_type": "code",
   "execution_count": 102,
   "metadata": {},
   "outputs": [],
   "source": [
    "R4 = Cleaner.Cleaner(resume_fake_2)"
   ]
  },
  {
   "cell_type": "code",
   "execution_count": 79,
   "metadata": {},
   "outputs": [
    {
     "data": {
      "text/plain": [
       "38.427947598253276"
      ]
     },
     "execution_count": 79,
     "metadata": {},
     "output_type": "execute_result"
    }
   ],
   "source": [
    "textdistance.jaccard.similarity(J[0],R3[0])*100"
   ]
  },
  {
   "cell_type": "code",
   "execution_count": 47,
   "metadata": {},
   "outputs": [
    {
     "data": {
      "text/plain": [
       "61.111111111111114"
      ]
     },
     "execution_count": 47,
     "metadata": {},
     "output_type": "execute_result"
    }
   ],
   "source": [
    "textdistance.overlap.normalized_similarity(J[2],R3[2])*100"
   ]
  },
  {
   "cell_type": "code",
   "execution_count": 76,
   "metadata": {},
   "outputs": [
    {
     "data": {
      "text/plain": [
       "6.432098765432098"
      ]
     },
     "execution_count": 76,
     "metadata": {},
     "output_type": "execute_result"
    }
   ],
   "source": [
    "textdistance.monge_elkan.similarity(J[2],R3[2])*100"
   ]
  },
  {
   "cell_type": "code",
   "execution_count": 77,
   "metadata": {},
   "outputs": [
    {
     "data": {
      "text/plain": [
       "61.111111111111114"
      ]
     },
     "execution_count": 77,
     "metadata": {},
     "output_type": "execute_result"
    }
   ],
   "source": [
    "textdistance.sorensen_dice.similarity(J[2],R3[2])*100"
   ]
  },
  {
   "cell_type": "code",
   "execution_count": 84,
   "metadata": {},
   "outputs": [
    {
     "data": {
      "text/plain": [
       "61.111111111111114"
      ]
     },
     "execution_count": 84,
     "metadata": {},
     "output_type": "execute_result"
    }
   ],
   "source": [
    "textdistance.cosine.similarity(R3[2], J[2])*100"
   ]
  },
  {
   "cell_type": "code",
   "execution_count": 51,
   "metadata": {},
   "outputs": [],
   "source": [
    "import abydos.distance as D"
   ]
  },
  {
   "cell_type": "code",
   "execution_count": 72,
   "metadata": {},
   "outputs": [],
   "source": [
    "cmp = D.MongeElkan()"
   ]
  },
  {
   "cell_type": "code",
   "execution_count": 73,
   "metadata": {},
   "outputs": [
    {
     "data": {
      "text/plain": [
       "96.39830508474576"
      ]
     },
     "execution_count": 73,
     "metadata": {},
     "output_type": "execute_result"
    }
   ],
   "source": [
    "cmp.sim(\" \".join(J[2]), \" \".join(R3[2]))*100\n"
   ]
  },
  {
   "cell_type": "code",
   "execution_count": 74,
   "metadata": {},
   "outputs": [
    {
     "data": {
      "text/plain": [
       "92.72598870056498"
      ]
     },
     "execution_count": 74,
     "metadata": {},
     "output_type": "execute_result"
    }
   ],
   "source": [
    "cmp.sim(\" \".join(J[2]), \" \".join(R2[2]))*100\n"
   ]
  },
  {
   "cell_type": "code",
   "execution_count": 75,
   "metadata": {},
   "outputs": [
    {
     "data": {
      "text/plain": [
       "94.77401129943502"
      ]
     },
     "execution_count": 75,
     "metadata": {},
     "output_type": "execute_result"
    }
   ],
   "source": [
    "cmp.sim(\" \".join(J[2]), \" \".join(R1[2]))*100"
   ]
  },
  {
   "cell_type": "code",
   "execution_count": 94,
   "metadata": {},
   "outputs": [],
   "source": [
    "def match(resume, job_des):\n",
    "    j = td.jaccard.similarity(resume, job_des)*100\n",
    "    s = td.sorensen_dice.similarity(resume, job_des)*100\n",
    "    c = td.cosine.similarity(resume, job_des)*100\n",
    "    o = td.overlap.normalized_similarity(resume, job_des)*100\n",
    "    total = (j+s+c+o)/4\n",
    "    print(\"Score is : \",total,\"%\")"
   ]
  },
  {
   "cell_type": "code",
   "execution_count": 110,
   "metadata": {},
   "outputs": [
    {
     "name": "stdout",
     "output_type": "stream",
     "text": [
      "Score is :  12.470778460330704 %\n"
     ]
    }
   ],
   "source": [
    "match(R1[0],J[0])"
   ]
  },
  {
   "cell_type": "code",
   "execution_count": 111,
   "metadata": {},
   "outputs": [
    {
     "name": "stdout",
     "output_type": "stream",
     "text": [
      "Score is :  15.189690131399821 %\n"
     ]
    }
   ],
   "source": [
    "match(R2[0],J[0])"
   ]
  },
  {
   "cell_type": "code",
   "execution_count": 115,
   "metadata": {},
   "outputs": [
    {
     "name": "stdout",
     "output_type": "stream",
     "text": [
      "Score is :  52.36990482128794 %\n"
     ]
    }
   ],
   "source": [
    "match(R3[0],J[0])"
   ]
  },
  {
   "cell_type": "code",
   "execution_count": 118,
   "metadata": {},
   "outputs": [
    {
     "name": "stdout",
     "output_type": "stream",
     "text": [
      "Score is :  67.08062748198515 %\n"
     ]
    }
   ],
   "source": [
    "match(R4[0],J[0])"
   ]
  },
  {
   "cell_type": "code",
   "execution_count": null,
   "metadata": {},
   "outputs": [],
   "source": []
  }
 ],
 "metadata": {
  "kernelspec": {
   "display_name": "Python 3",
   "language": "python",
   "name": "python3"
  },
  "language_info": {
   "codemirror_mode": {
    "name": "ipython",
    "version": 3
   },
   "file_extension": ".py",
   "mimetype": "text/x-python",
   "name": "python",
   "nbconvert_exporter": "python",
   "pygments_lexer": "ipython3",
   "version": "3.8.2"
  }
 },
 "nbformat": 4,
 "nbformat_minor": 4
}

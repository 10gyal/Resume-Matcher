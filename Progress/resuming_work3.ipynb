{
 "cells": [
  {
   "cell_type": "code",
   "execution_count": 93,
   "metadata": {},
   "outputs": [],
   "source": [
    "import numpy as np\n",
    "import pandas as pd\n",
    "import matplotlib.pyplot as plt\n",
    "import seaborn as sns\n",
    "pd.set_option(\"display.max_colwidth\", 200)\n",
    "import gensim\n",
    "import spacy\n",
    "import Distill\n",
    "from sklearn.metrics.pairwise import cosine_similarity as cos\n",
    "import scipy\n",
    "from scipy.spatial.distance import cosine as cosd"
   ]
  },
  {
   "cell_type": "code",
   "execution_count": 94,
   "metadata": {},
   "outputs": [],
   "source": [
    "Dataset = pd.read_json('../Dataset/Resume_1.json')"
   ]
  },
  {
   "cell_type": "code",
   "execution_count": 95,
   "metadata": {},
   "outputs": [],
   "source": [
    "Data = []\n",
    "Data_label = []\n",
    "def read_dataset_return_list(Dataset):\n",
    "    # must be a pandas DataFrame Object\n",
    "    for i in Dataset.columns:\n",
    "        Data.append(Dataset[i][0])\n",
    "        Data_label.append(i)\n"
   ]
  },
  {
   "cell_type": "code",
   "execution_count": 96,
   "metadata": {},
   "outputs": [],
   "source": [
    "def clean_text(text):\n",
    "    text = Distill.tokenize(text)\n",
    "    text = Distill.remove_stopwords(text)\n",
    "    text = Distill.remove_tags(text)\n",
    "    text = Distill.lemmatize(text)\n",
    "    text = set(text)\n",
    "    return list(text)"
   ]
  },
  {
   "cell_type": "code",
   "execution_count": 102,
   "metadata": {},
   "outputs": [],
   "source": [
    "# Preprocessing Pipeline\n",
    "cleaned = []\n",
    "for i in Data:\n",
    "    cleaned.append(clean_text(i))\n"
   ]
  },
  {
   "cell_type": "code",
   "execution_count": 103,
   "metadata": {},
   "outputs": [],
   "source": [
    "doc = []\n",
    "for i in range(len(cleaned)):\n",
    "    t = ' '.join(cleaned[i])\n",
    "    doc.append(t)"
   ]
  },
  {
   "cell_type": "code",
   "execution_count": 99,
   "metadata": {},
   "outputs": [],
   "source": [
    "read_dataset_return_list(Dataset)"
   ]
  },
  {
   "cell_type": "code",
   "execution_count": 100,
   "metadata": {},
   "outputs": [],
   "source": [
    "nlp = spacy.load('en_vectors_web_lg')"
   ]
  },
  {
   "cell_type": "code",
   "execution_count": 104,
   "metadata": {},
   "outputs": [],
   "source": [
    "check = nlp(doc[1])"
   ]
  },
  {
   "cell_type": "code",
   "execution_count": 105,
   "metadata": {},
   "outputs": [],
   "source": [
    "check2 = nlp(doc[2])"
   ]
  },
  {
   "cell_type": "code",
   "execution_count": 106,
   "metadata": {},
   "outputs": [
    {
     "data": {
      "text/plain": [
       "case problem received retailer web tracking technology decision retail portal performance meeting cause sale client insta hyderbad matter direct ontime fix additional provide system communication root impact logical perform interaction group transfer Objective improvement processing link intervention task ability basis award support strong analytical maintenance Teradata automation zos indeed application high domain identify now involve user Project world systematic exposure effective issue platform right effort management business daytoday critical lead present solve basic software request project work strength receive take skill mainframe manual dfsort develop subject incident large carry production development expert workflow repeat use orchestration good approach analysis important multiple IDCAMS part librarian set troubleshooting report front session servicenow defect datum cobol daily knowledge deliverable ensure qmf host relocate willing supplier learn responsibility sharing end enhancement various boarding peer debugging automate help major indeedcomrakhilyadavpolemaina CA7 experience year activity reduce"
      ]
     },
     "execution_count": 106,
     "metadata": {},
     "output_type": "execute_result"
    }
   ],
   "source": [
    "check"
   ]
  },
  {
   "cell_type": "code",
   "execution_count": 107,
   "metadata": {},
   "outputs": [
    {
     "data": {
      "text/plain": [
       "access organization hard initiative web active member ability quick achieve excellent MICROSOFT believe environment language Less consistently understanding wish knowledge g skills indeed working information year objective learning take skill HTML additional programming trait C php excellence net windows organize conceptual indeedcomrafreenjamadar8baf379b705e37c6 use create experience work team personallity"
      ]
     },
     "execution_count": 107,
     "metadata": {},
     "output_type": "execute_result"
    }
   ],
   "source": [
    "check2"
   ]
  },
  {
   "cell_type": "code",
   "execution_count": 108,
   "metadata": {},
   "outputs": [],
   "source": [
    "from sklearn.decomposition import PCA"
   ]
  },
  {
   "cell_type": "code",
   "execution_count": 109,
   "metadata": {},
   "outputs": [],
   "source": [
    "pca = PCA(n_components=10)"
   ]
  },
  {
   "cell_type": "code",
   "execution_count": 110,
   "metadata": {},
   "outputs": [],
   "source": [
    "\n",
    "c1_vector = np.vstack([word.vector for word in check if word.has_vector])"
   ]
  },
  {
   "cell_type": "code",
   "execution_count": 111,
   "metadata": {},
   "outputs": [
    {
     "data": {
      "text/plain": [
       "(300, 1)"
      ]
     },
     "execution_count": 111,
     "metadata": {},
     "output_type": "execute_result"
    }
   ],
   "source": [
    "check[1].vector.reshape(-1,1).shape"
   ]
  },
  {
   "cell_type": "code",
   "execution_count": 112,
   "metadata": {},
   "outputs": [
    {
     "data": {
      "text/plain": [
       "array([[0.]], dtype=float32)"
      ]
     },
     "execution_count": 112,
     "metadata": {},
     "output_type": "execute_result"
    }
   ],
   "source": [
    "che_"
   ]
  },
  {
   "cell_type": "code",
   "execution_count": 113,
   "metadata": {},
   "outputs": [
    {
     "data": {
      "text/plain": [
       "(131, 300)"
      ]
     },
     "execution_count": 113,
     "metadata": {},
     "output_type": "execute_result"
    }
   ],
   "source": [
    "c1_vector.shape"
   ]
  },
  {
   "cell_type": "code",
   "execution_count": 114,
   "metadata": {},
   "outputs": [],
   "source": [
    "oof = pca.fit_transform(c1_vector)"
   ]
  },
  {
   "cell_type": "code",
   "execution_count": 115,
   "metadata": {},
   "outputs": [],
   "source": [
    "c2_vector = np.vstack([word.vector for word in check2 if word.has_vector])"
   ]
  },
  {
   "cell_type": "code",
   "execution_count": 116,
   "metadata": {},
   "outputs": [],
   "source": [
    "oof2 = pca.fit_transform(c2_vector)"
   ]
  },
  {
   "cell_type": "code",
   "execution_count": 117,
   "metadata": {},
   "outputs": [
    {
     "data": {
      "text/plain": [
       "(47, 10)"
      ]
     },
     "execution_count": 117,
     "metadata": {},
     "output_type": "execute_result"
    }
   ],
   "source": [
    "oof2.shape"
   ]
  },
  {
   "cell_type": "code",
   "execution_count": 118,
   "metadata": {},
   "outputs": [
    {
     "data": {
      "text/plain": [
       "array([[-2.75703400e-01, -1.71394169e-01,  3.22671860e-01, ...,\n",
       "         4.06266004e-01, -6.63368255e-02,  3.70757468e-02],\n",
       "       [-5.71503222e-01, -3.35729569e-01,  6.10210419e-01, ...,\n",
       "         5.81110477e-01,  1.23581320e-01,  1.95929762e-02],\n",
       "       [ 4.05076861e-01, -7.80751556e-02, -2.09738433e-01, ...,\n",
       "        -6.54141903e-02,  3.04990765e-02, -3.70361209e-02],\n",
       "       ...,\n",
       "       [-5.67960960e-05,  2.97833651e-01, -4.01447266e-01, ...,\n",
       "         8.01234692e-02,  2.45668396e-01,  2.11022831e-02],\n",
       "       [ 2.30450243e-01,  1.99554816e-01,  2.86161512e-01, ...,\n",
       "         1.00048825e-01, -3.00404746e-02,  4.26913410e-01],\n",
       "       [-5.37801504e-01,  3.76625508e-01,  2.38172755e-01, ...,\n",
       "         4.43651110e-01,  7.53079712e-01,  1.24855906e-01]], dtype=float32)"
      ]
     },
     "execution_count": 118,
     "metadata": {},
     "output_type": "execute_result"
    }
   ],
   "source": [
    "cos(oof, oof2)"
   ]
  },
  {
   "cell_type": "code",
   "execution_count": 119,
   "metadata": {},
   "outputs": [
    {
     "data": {
      "text/plain": [
       "<matplotlib.axes._subplots.AxesSubplot at 0x7f95a9847b20>"
      ]
     },
     "execution_count": 119,
     "metadata": {},
     "output_type": "execute_result"
    },
    {
     "data": {
      "image/png": "[encoded data removed]",
      "text/plain": [
       "<Figure size 432x288 with 1 Axes>"
      ]
     },
     "metadata": {
      "needs_background": "light"
     },
     "output_type": "display_data"
    }
   ],
   "source": [
    "sns.scatterplot(oof[:,0],oof[:,1])\n",
    "sns.scatterplot(oof2[:,0],oof2[:,1])"
   ]
  },
  {
   "cell_type": "code",
   "execution_count": 120,
   "metadata": {},
   "outputs": [],
   "source": [
    "job = job_desc4 = \"\"\"The position holder will be responsible for creation and implementation of a wide variety of Web-based products using PHP, JavaScript, MySQL and AJAX.\n",
    "\n",
    "Key Responsibility Areas:\n",
    "\n",
    "Create, design and modify websites to suit the requirements of a client.\n",
    "PHP Developers need to have a thorough knowledge of developing cross platforms that are compatible with Web, mobile Web applications.\n",
    "Sound knowledge & working experience on PHP & shall be hands on database and programming experience.\n",
    "Additional skill-sets of OOPS concept, PHP, LAMP technologies, XML, HTML, CSS, Javascript, JQuery, Ajax.\n",
    "Good understanding of Oracle PL/SQL\n",
    "Relevant software architecture, software development, and software testing experience\n",
    "Should have ability to work as a team with business owner, developers, designers & testers.\n",
    "Qulification:\n",
    "\n",
    "B. Tech with minimum 60%\n",
    "10th and 12th with minimum 75%\n",
    "Experience:\n",
    "\n",
    "1 -3 years of PHP development experience.\n",
    "Skill Sets/ Requirements:\n",
    "\n",
    "Experience with PHP Programming on Open Source Tools.\n",
    "Implementation of eCommerce Projects\n",
    "Good command over AJAX & Database SQL programming.\n",
    "Experience with PHP Programming on Open Source Tools\n",
    "Knowledge of PHP, HTML5, CSS, Javascript, AJAX\n",
    "Good Knowledge of object oriented programming\n",
    "Knowledge in java script libraries (Jquery, Prototype)\n",
    "Effective communication & comprehension skill\n",
    "Understand Severity and Priority needs\n",
    "Time Management\n",
    "Quick decision making\"\"\""
   ]
  },
  {
   "cell_type": "code",
   "execution_count": 121,
   "metadata": {},
   "outputs": [],
   "source": [
    "j1 = clean_text(job)"
   ]
  },
  {
   "cell_type": "code",
   "execution_count": 123,
   "metadata": {},
   "outputs": [],
   "source": [
    "j_1 = \" \".join(j1)"
   ]
  },
  {
   "cell_type": "code",
   "execution_count": 125,
   "metadata": {},
   "outputs": [],
   "source": [
    "j_1 = nlp(j_1)"
   ]
  },
  {
   "cell_type": "code",
   "execution_count": 131,
   "metadata": {},
   "outputs": [
    {
     "data": {
      "text/plain": [
       "0.3195117"
      ]
     },
     "execution_count": 131,
     "metadata": {},
     "output_type": "execute_result"
    }
   ],
   "source": [
    "# j_1[3].similarity(check2[5])"
   ]
  },
  {
   "cell_type": "code",
   "execution_count": 132,
   "metadata": {},
   "outputs": [],
   "source": [
    "import difflib"
   ]
  },
  {
   "cell_type": "code",
   "execution_count": 135,
   "metadata": {},
   "outputs": [
    {
     "name": "stdout",
     "output_type": "stream",
     "text": [
      "<difflib.SequenceMatcher object at 0x7f95a97b15e0>\n"
     ]
    }
   ],
   "source": [
    "print(difflib.SequenceMatcher(None,doc[1],doc[2]))"
   ]
  },
  {
   "cell_type": "code",
   "execution_count": null,
   "metadata": {},
   "outputs": [],
   "source": []
  }
 ],
 "metadata": {
  "kernelspec": {
   "display_name": "Python 3",
   "language": "python",
   "name": "python3"
  },
  "language_info": {
   "codemirror_mode": {
    "name": "ipython",
    "version": 3
   },
   "file_extension": ".py",
   "mimetype": "text/x-python",
   "name": "python",
   "nbconvert_exporter": "python",
   "pygments_lexer": "ipython3",
   "version": "3.8.2"
  }
 },
 "nbformat": 4,
 "nbformat_minor": 4
}

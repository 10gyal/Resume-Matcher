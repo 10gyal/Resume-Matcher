{
 "metadata": {
  "language_info": {
   "codemirror_mode": {
    "name": "ipython",
    "version": 3
   },
   "file_extension": ".py",
   "mimetype": "text/x-python",
   "name": "python",
   "nbconvert_exporter": "python",
   "pygments_lexer": "ipython3",
   "version": "3.8.2-final"
  },
  "orig_nbformat": 2,
  "kernelspec": {
   "name": "python_defaultSpec_1599987182131",
   "display_name": "Python 3.8.2 64-bit ('venv': venv)"
  }
 },
 "nbformat": 4,
 "nbformat_minor": 2,
 "cells": [
  {
   "cell_type": "code",
   "execution_count": null,
   "metadata": {},
   "outputs": [],
   "source": []
  },
  {
   "source": [],
   "cell_type": "code",
   "metadata": {},
   "execution_count": null,
   "outputs": []
  },
  {
   "cell_type": "code",
   "execution_count": 2,
   "metadata": {},
   "outputs": [],
   "source": [
    "job = \"\"\"The position holder will be responsible for creation and implementation of a wide variety of Web-based products using PHP, JavaScript, MySQL and AJAX.\n",
    "\n",
    "Key Responsibility Areas:\n",
    "\n",
    "Create, design and modify websites to suit the requirements of a client.\n",
    "PHP Developers need to have a thorough knowledge of developing cross platforms that are compatible with Web, mobile Web applications.\n",
    "Sound knowledge & working experience on PHP & shall be hands on database and programming experience.\n",
    "Additional skill-sets of OOPS concept, PHP, LAMP technologies, XML, HTML, CSS, Javascript, JQuery, Ajax.\n",
    "Good understanding of Oracle PL/SQL\n",
    "Relevant software architecture, software development, and software testing experience\n",
    "Should have ability to work as a team with business owner, developers, designers & testers.\n",
    "Qulification:\n",
    "\n",
    "B. Tech with minimum 60%\n",
    "10th and 12th with minimum 75%\n",
    "Experience:\n",
    "\n",
    "1 -3 years of PHP development experience.\n",
    "Skill Sets/ Requirements:\n",
    "\n",
    "Experience with PHP Programming on Open Source Tools.\n",
    "Implementation of eCommerce Projects\n",
    "Good command over AJAX & Database SQL programming.\n",
    "Experience with PHP Programming on Open Source Tools\n",
    "Knowledge of PHP, HTML5, CSS, Javascript, AJAX\n",
    "Good Knowledge of object oriented programming\n",
    "Knowledge in java script libraries (Jquery, Prototype)\n",
    "Effective communication & comprehension skill\n",
    "Understand Severity and Priority needs\n",
    "Time Management\n",
    "Quick decision making\"\"\""
   ]
  },
  {
   "cell_type": "code",
   "execution_count": 3,
   "metadata": {},
   "outputs": [],
   "source": [
    "import Cleaner"
   ]
  },
  {
   "cell_type": "code",
   "execution_count": 4,
   "metadata": {},
   "outputs": [],
   "source": [
    "L = []\n",
    "L = Cleaner.Cleaner(job)"
   ]
  },
  {
   "cell_type": "code",
   "execution_count": 7,
   "metadata": {},
   "outputs": [
    {
     "output_type": "execute_result",
     "data": {
      "text/plain": "'library design implementation position suit html testing javascript PHP Responsibility Prototype Time object PLSQL creation ecommerce experience project software B knowledge skillset comprehension cross sound decision webbase Experience application owner Oracle designer web minimum year team platform work JQuery database product Source Database developer 10th modify business website Skill technology Tech xml skill create development Jquery source tool hand script AJAX tester java mobile 12th architecture ability need css Knowledge program requirement holder variety Ajax SQL Management Priority Qulification concept command communication Javascript Severity programming LAMP Areas orient JavaScript client'"
     },
     "metadata": {},
     "execution_count": 7
    }
   ],
   "source": [
    "\" \".join(L[2])"
   ]
  },
  {
   "cell_type": "code",
   "execution_count": null,
   "metadata": {},
   "outputs": [],
   "source": []
  }
 ]
}
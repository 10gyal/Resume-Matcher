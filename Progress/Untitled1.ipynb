{
 "cells": [
  {
   "cell_type": "code",
   "execution_count": 1,
   "metadata": {},
   "outputs": [],
   "source": [
    "import spacy\n",
    "import Distill\n",
    "import abydos\n",
    "nlp = spacy.load('en_core_web_md')"
   ]
  },
  {
   "cell_type": "code",
   "execution_count": 2,
   "metadata": {},
   "outputs": [],
   "source": [
    "import pandas as pd\n",
    "Dataset = pd.read_json(\"../Dataset/Resume_1.json\")"
   ]
  },
  {
   "cell_type": "code",
   "execution_count": 3,
   "metadata": {},
   "outputs": [],
   "source": [
    "Data = []\n",
    "Data_label = []\n",
    "def read_dataset_return_list(Dataset):\n",
    "    # must be a pandas DataFrame Object\n",
    "    for i in Dataset.columns:\n",
    "        Data.append(Dataset[i][0])\n",
    "        Data_label.append(i)\n",
    "\n",
    "read_dataset_return_list(Dataset)\n",
    "\n",
    "def clean_text(text):\n",
    "    text = Distill.tokenize(text)\n",
    "    text = Distill.remove_stopwords(text)\n",
    "    text = Distill.remove_tags(text)\n",
    "    text = Distill.lemmatize(text)\n",
    "    text = set(text)\n",
    "    return list(text)\n",
    "\n",
    "\n",
    "# Preprocessing Pipeline\n",
    "cleaned = []\n",
    "cleaned_text = []\n",
    "for i in Data:\n",
    "    cleaned.append(clean_text(i))\n",
    "    cleaned_text.append(clean_text(i))\n",
    "\n",
    "\n",
    "doc = []\n",
    "for i in range(len(cleaned)):\n",
    "    t = ' '.join(cleaned[i])\n",
    "    doc.append(t)"
   ]
  },
  {
   "cell_type": "code",
   "execution_count": 4,
   "metadata": {},
   "outputs": [],
   "source": [
    "res1 = nlp(doc[1])"
   ]
  },
  {
   "cell_type": "code",
   "execution_count": 5,
   "metadata": {},
   "outputs": [
    {
     "data": {
      "text/plain": [
       "221"
      ]
     },
     "execution_count": 5,
     "metadata": {},
     "output_type": "execute_result"
    }
   ],
   "source": [
    "len(res1)"
   ]
  },
  {
   "cell_type": "code",
   "execution_count": 6,
   "metadata": {},
   "outputs": [],
   "source": [
    "# for token in res1:\n",
    "#     print(token.text, token.tag_)"
   ]
  },
  {
   "cell_type": "code",
   "execution_count": 7,
   "metadata": {},
   "outputs": [],
   "source": [
    "token_NN = []\n",
    "token_other = []\n",
    "\n",
    "for token in res1:\n",
    "    if token.tag_ in [ 'NNP','NN']:\n",
    "        token_NN.append(token.text)\n",
    "    else:\n",
    "        token_other.append(token.text)"
   ]
  },
  {
   "cell_type": "code",
   "execution_count": null,
   "metadata": {},
   "outputs": [],
   "source": []
  },
  {
   "cell_type": "code",
   "execution_count": null,
   "metadata": {},
   "outputs": [],
   "source": []
  },
  {
   "cell_type": "code",
   "execution_count": 8,
   "metadata": {},
   "outputs": [],
   "source": [
    "job = \"\"\"The position holder will be responsible for creation and implementation of a wide variety of Web-based products using PHP, JavaScript, MySQL and AJAX.\n",
    "\n",
    "Key Responsibility Areas:\n",
    "\n",
    "Create, design and modify websites to suit the requirements of a client.\n",
    "PHP Developers need to have a thorough knowledge of developing cross platforms that are compatible with Web, mobile Web applications.\n",
    "Sound knowledge & working experience on PHP & shall be hands on database and programming experience.\n",
    "Additional skill-sets of OOPS concept, PHP, LAMP technologies, XML, HTML, CSS, Javascript, JQuery, Ajax.\n",
    "Good understanding of Oracle PL/SQL\n",
    "Relevant software architecture, software development, and software testing experience\n",
    "Should have ability to work as a team with business owner, developers, designers & testers.\n",
    "Qulification:\n",
    "\n",
    "B. Tech with minimum 60%\n",
    "10th and 12th with minimum 75%\n",
    "Experience:\n",
    "\n",
    "1 -3 years of PHP development experience.\n",
    "Skill Sets/ Requirements:\n",
    "\n",
    "Experience with PHP Programming on Open Source Tools.\n",
    "Implementation of eCommerce Projects\n",
    "Good command over AJAX & Database SQL programming.\n",
    "Experience with PHP Programming on Open Source Tools\n",
    "Knowledge of PHP, HTML5, CSS, Javascript, AJAX\n",
    "Good Knowledge of object oriented programming\n",
    "Knowledge in java script libraries (Jquery, Prototype)\n",
    "Effective communication & comprehension skill\n",
    "Understand Severity and Priority needs\n",
    "Time Management\n",
    "Quick decision making\"\"\""
   ]
  },
  {
   "cell_type": "code",
   "execution_count": 9,
   "metadata": {},
   "outputs": [],
   "source": [
    "job_ = clean_text(job)\n",
    "job_t = \" \".join(job_)"
   ]
  },
  {
   "cell_type": "code",
   "execution_count": 10,
   "metadata": {},
   "outputs": [],
   "source": [
    "job_t2 = nlp(job_t)"
   ]
  }
 ],
 "metadata": {
  "kernelspec": {
   "display_name": "Python 3",
   "language": "python",
   "name": "python3"
  },
  "language_info": {
   "codemirror_mode": {
    "name": "ipython",
    "version": 3
   },
   "file_extension": ".py",
   "mimetype": "text/x-python",
   "name": "python",
   "nbconvert_exporter": "python",
   "pygments_lexer": "ipython3",
   "version": "3.8.2"
  }
 },
 "nbformat": 4,
 "nbformat_minor": 4
}

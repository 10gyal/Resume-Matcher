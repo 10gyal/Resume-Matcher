{
 "cells": [
  {
   "cell_type": "code",
   "execution_count": null,
   "metadata": {},
   "outputs": [],
   "source": [
    "import spacy\n",
    "nlp = spacy.load('en_core_web_md')"
   ]
  },
  {
   "cell_type": "code",
   "execution_count": null,
   "metadata": {},
   "outputs": [],
   "source": [
    "import pandas as pd\n",
    "Dataset = pd.read_json(\"../Dataset/Resume_1.json\")"
   ]
  },
  {
   "cell_type": "code",
   "execution_count": null,
   "metadata": {},
   "outputs": [],
   "source": [
    "Data = []\n",
    "Data_label = []\n",
    "def read_dataset_return_list(Dataset):\n",
    "    # must be a pandas DataFrame Object\n",
    "    for i in Dataset.columns:\n",
    "        Data.append(Dataset[i][0])\n",
    "        Data_label.append(i)\n",
    "\n",
    "read_dataset_return_list(Dataset)\n",
    "\n",
    "def clean_text(text):\n",
    "    text = Distill.tokenize(text)\n",
    "    text = Distill.remove_stopwords(text)\n",
    "    text = Distill.remove_tags(text)\n",
    "    text = Distill.lemmatize(text)\n",
    "    text = set(text)\n",
    "    return list(text)\n",
    "\n",
    "\n",
    "# Preprocessing Pipeline\n",
    "cleaned = []\n",
    "cleaned_text = []\n",
    "for i in Data:\n",
    "    cleaned.append(clean_text(i))\n",
    "    cleaned_text.append(clean_text(i))\n",
    "\n",
    "\n",
    "doc = []\n",
    "for i in range(len(cleaned)):\n",
    "    t = ' '.join(cleaned[i])\n",
    "    doc.append(t)"
   ]
  }
 ],
 "metadata": {
  "kernelspec": {
   "display_name": "Python 3",
   "language": "python",
   "name": "python3"
  },
  "language_info": {
   "codemirror_mode": {
    "name": "ipython",
    "version": 3
   },
   "file_extension": ".py",
   "mimetype": "text/x-python",
   "name": "python",
   "nbconvert_exporter": "python",
   "pygments_lexer": "ipython3",
   "version": "3.8.2"
  }
 },
 "nbformat": 4,
 "nbformat_minor": 4
}

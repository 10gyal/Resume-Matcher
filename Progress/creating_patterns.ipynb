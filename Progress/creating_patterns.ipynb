{
 "cells": [
  {
   "cell_type": "markdown",
   "metadata": {},
   "source": [
    "# Spacy's Matcher Patterns\n",
    "### Creating Pattern for To Match College keywords and be able to extact it."
   ]
  },
  {
   "cell_type": "code",
   "execution_count": 1,
   "metadata": {},
   "outputs": [],
   "source": [
    "import spacy\n",
    "from spacy.matcher import Matcher, PhraseMatcher\n",
    "from spacy import displacy\n",
    "import pandas as pd"
   ]
  },
  {
   "cell_type": "code",
   "execution_count": 2,
   "metadata": {},
   "outputs": [],
   "source": [
    "nlp = spacy.load('en_core_web_md')"
   ]
  },
  {
   "cell_type": "code",
   "execution_count": 3,
   "metadata": {},
   "outputs": [],
   "source": [
    "matcher = Matcher(nlp.vocab)"
   ]
  },
  {
   "cell_type": "markdown",
   "metadata": {},
   "source": [
    "## Possible Patterns for Getting College Names\n",
    "\n",
    "[Link](http://education-india.in/Education/Colleges/) \n",
    "\n",
    "### Techinal Institutions\n",
    "\n",
    "- XYZ Institute of Technology\n",
    "- XYZ College of Engineering\n",
    "- XYZ Institue of Technology and Management\n",
    "- XYZ Institue of Information Technology\n",
    "- XYZ College of Engineering and Technology\n",
    "\n",
    "\n",
    "Provided this, all technical college follow a similar pattern they have Technology in the end or in the middle. For this, the whole phrase can be extracted and for checking, it should have a newline character at the end. \n",
    "\n",
    "'''\n",
    "NP + Set of Keywords as [College, Technology, Management, Institute, Information, Engineering] always appear in the Techincal Colleges.\n",
    "'''"
   ]
  },
  {
   "cell_type": "code",
   "execution_count": 4,
   "metadata": {},
   "outputs": [],
   "source": [
    "college_tech_keywords = [\"College\",\"Engineering\",\"Technology\",\"Management\",\"Information\",\"Institute\"]"
   ]
  },
  {
   "cell_type": "code",
   "execution_count": 5,
   "metadata": {},
   "outputs": [],
   "source": [
    "college_words = [\"commerce\", \"business\", \"arts\", \"science\", \"applied\", \"sciences\", \"art\",\"research\", \"vocational\", \"studies\"]"
   ]
  },
  {
   "cell_type": "code",
   "execution_count": 6,
   "metadata": {},
   "outputs": [],
   "source": [
    "import pandas as pd"
   ]
  },
  {
   "cell_type": "code",
   "execution_count": 7,
   "metadata": {},
   "outputs": [],
   "source": [
    "df = pd.read_json('../Dataset/Resume_1.json')"
   ]
  },
  {
   "cell_type": "code",
   "execution_count": 8,
   "metadata": {},
   "outputs": [],
   "source": [
    "resume = df['Person 6'][0]"
   ]
  },
  {
   "cell_type": "code",
   "execution_count": 9,
   "metadata": {},
   "outputs": [
    {
     "name": "stdout",
     "output_type": "stream",
     "text": [
      "Anvitha Rao\n",
      "Automation developer\n",
      "\n",
      "- Email me on Indeed: indeed.com/r/Anvitha-Rao/9d6acc68cc30c71c\n",
      "\n",
      "Seeking a software development internship position for Summer 2018 that utilizes my technical\n",
      "skills, education and passion for\n",
      "solving interesting problems as a software professional.\n",
      "\n",
      "Willing to relocate: Anywhere\n",
      "\n",
      "WORK EXPERIENCE\n",
      "\n",
      "Automation developer\n",
      "\n",
      "SAP Labs -  Bengaluru, Karnataka -\n",
      "\n",
      "August 2016 to August 2017\n",
      "\n",
      "Worked as an automation developer in the development of cloud based Human capital\n",
      "management System and\n",
      "Integration frameworks Dell Boomi and SAP HANA Cloud Platform Integration.\n",
      "● Development of automation framework using Java Selenium and RestFul API's for payroll\n",
      "projects.\n",
      "● Collaborating with customers on migrating Payroll projects to SAP HANA Cloud Platform\n",
      "Integration.\n",
      "● Involved in regression, unity, functionality, performance, sanity and acceptance test driven\n",
      "development process.\n",
      "\n",
      "Intern\n",
      "\n",
      "SAP Labs -  Bengaluru, Karnataka -\n",
      "\n",
      "February 2016 to July 2016\n",
      "\n",
      "Worked on migrating Business intelligence tool, Universe Design Tool in Visual Studio using C++.\n",
      "● Automation of test cases for identifying operations supported by databases using Java.\n",
      "● Tools: Universe Design Tool, Information Design Tool, Webi and Perforce.\n",
      "\n",
      "Projects:\n",
      "GeoSpark Integrated with Apache Hadoop\n",
      "● Identifies top 50 pick up points in New York city based on distributed New York taxi data using\n",
      "Apache Spark and Scala.\n",
      "Iaas Implementation: Cloud application for Image Recognition\n",
      "● This project uses Amazon S3, SQS and EC2 instances to provide Image recognition service to\n",
      "users by implementing load\n",
      "balancing and web services.\n",
      "Spam Detection\n",
      "● Identifying spam messages using Natural Language processing techniques in python.\n",
      "Analysis of Financial Data\n",
      "\n",
      "https://www.indeed.com/r/Anvitha-Rao/9d6acc68cc30c71c?isid=rex-download&ikw=download-top&co=IN\n",
      "\n",
      "\n",
      "● Exploratory data analysis of stock prices using various data visualization techniques in pandas\n",
      "and d3.js\n",
      "Effective prediction and prevention of air pollution caused due to automobiles using IoT and data\n",
      "analytics techniques\n",
      "● Analyzes pollutants at different geographical locations and suggests a least polluted route on\n",
      "an android application.\n",
      "● Co-authored a paper --Ref link: http://www.ijrcct.org/index.php/ojs/article/view/1416\n",
      "\n",
      "EDUCATION\n",
      "\n",
      "Masters in Computer Science\n",
      "\n",
      "Arizona State University -  Tempe, AZ\n",
      "\n",
      "September 2019\n",
      "\n",
      "Bachelor of Engineering in Computer Science\n",
      "\n",
      "M S Ramaiah Institute of Technology -  Bengaluru, Karnataka\n",
      "\n",
      "September 2012 to June 2016\n",
      "\n",
      "SKILLS\n",
      "\n",
      "JAVA (1 year), C++ (Less than 1 year), Hadoop (Less than 1 year), HADOOP (Less than 1 year),\n",
      "CSS (Less than 1 year)\n",
      "\n",
      "LINKS\n",
      "\n",
      "https://www.linkedin.com/in/anvitha-d-rao-65a068a7\n",
      "\n",
      "ADDITIONAL INFORMATION\n",
      "\n",
      "Technical Skills:\n",
      "Programming Languages: C, C++, HTML/CSS, Java, Python, Javascript\n",
      "\n",
      "Technologies: IoT, MySQL, PostgreSQL, D3js, Hadoop and Spark, Gephi\n",
      "\n",
      "https://www.linkedin.com/in/anvitha-d-rao-65a068a7\n"
     ]
    }
   ],
   "source": [
    "print(resume)"
   ]
  },
  {
   "cell_type": "code",
   "execution_count": 10,
   "metadata": {},
   "outputs": [],
   "source": [
    "doc = nlp(resume)"
   ]
  },
  {
   "cell_type": "code",
   "execution_count": 11,
   "metadata": {},
   "outputs": [],
   "source": [
    "# create a pattern with all the above data to extract college names."
   ]
  },
  {
   "cell_type": "code",
   "execution_count": 12,
   "metadata": {},
   "outputs": [],
   "source": [
    "Institute = [{'TEXT': {\"REGEX\": \"^[Ii](\\.?|nstitute)$\"}}]\n",
    "College = [{'TEXT': {\"REGEX\": \"^[Cc](\\.?|ollege)$\"}}]\n",
    "University = [{'TEXT': {\"REGEX\": \"^[Uu](\\.?|niversity)$\"}}]\n",
    "Technology = [{'TEXT': {\"REGEX\": \"^[Tt](\\.?|echnology)$\"}}]\n",
    "Management = [{'TEXT': {\"REGEX\": \"^[Mm](\\.?|anagement)$\"}}]\n",
    "Engineering = [{'TEXT': {\"REGEX\": \"^[Ee](\\.?|ngineering)$\"}}]\n",
    "Commerce = [{'TEXT': {\"REGEX\": \"^[Cc](\\.?|ommerce)$\"}}]\n",
    "Polytechnic =  [{'TEXT': {\"REGEX\": \"^[Pp](\\.?|olytechnic)$\"}}]\n",
    "Vocational = [{'TEXT': {\"REGEX\": \"^[Vv](\\.?|ocational)$\"}}]"
   ]
  },
  {
   "cell_type": "code",
   "execution_count": 13,
   "metadata": {},
   "outputs": [
    {
     "data": {
      "text/plain": [
       "'\\nthe aim is to get the matches for the string\\nthat are present in the \\n'"
      ]
     },
     "execution_count": 13,
     "metadata": {},
     "output_type": "execute_result"
    }
   ],
   "source": [
    "# def create_callback(matcher, doc, i, matches):\n",
    "    ## get match and then return a subset of string that can contain the full college name\n",
    "#     match_id, start, end = matcher[i]\n"
   ]
  },
  {
   "cell_type": "code",
   "execution_count": 14,
   "metadata": {},
   "outputs": [],
   "source": [
    "matcher.add(\"Institute\",None,Institute)\n",
    "matcher.add(\"College\",None,College)\n",
    "matcher.add(\"University\",None,University)\n",
    "matcher.add(\"Technology\",None,Technology)\n",
    "matcher.add(\"Engineering\",None,Engineering)"
   ]
  },
  {
   "cell_type": "code",
   "execution_count": 15,
   "metadata": {},
   "outputs": [],
   "source": [
    "doc = nlp(resume)"
   ]
  },
  {
   "cell_type": "code",
   "execution_count": 16,
   "metadata": {},
   "outputs": [],
   "source": [
    "matches = matcher(doc)"
   ]
  },
  {
   "cell_type": "code",
   "execution_count": 17,
   "metadata": {},
   "outputs": [
    {
     "data": {
      "text/plain": [
       "[(986123062041987797, 395, 396),\n",
       " (17806784801972435463, 407, 408),\n",
       " (2138708421752928434, 415, 416),\n",
       " (2109023555823470129, 417, 418),\n",
       " (16706974820187262499, 485, 486)]"
      ]
     },
     "execution_count": 17,
     "metadata": {},
     "output_type": "execute_result"
    }
   ],
   "source": [
    "matches"
   ]
  },
  {
   "cell_type": "code",
   "execution_count": 21,
   "metadata": {},
   "outputs": [],
   "source": [
    "def _clean_it(text):\n",
    "    text = str(text)\n",
    "    text = text.split(\" \")\n",
    "    if len(text) > 3 and len(text) < 9:\n",
    "        return text"
   ]
  },
  {
   "cell_type": "code",
   "execution_count": 22,
   "metadata": {},
   "outputs": [],
   "source": [
    "def add_event_listener(matches):\n",
    "    span_text = []\n",
    "    for match_id, start, end in matches:\n",
    "        string_id = nlp.vocab.strings[match_id]  # Get string representation\n",
    "        span = doc[start:end]  # The matched span\n",
    "        span_area = doc[start-5:end+2]\n",
    "        span_text.append(_clean_it(span_area))\n",
    "    return span_text"
   ]
  },
  {
   "cell_type": "code",
   "execution_count": null,
   "metadata": {},
   "outputs": [],
   "source": []
  },
  {
   "cell_type": "code",
   "execution_count": 23,
   "metadata": {},
   "outputs": [],
   "source": [
    "outs = add_event_listener(matches)"
   ]
  },
  {
   "cell_type": "markdown",
   "metadata": {},
   "source": [
    "# Insights from visualizing the Tags and other things. \n",
    "\n",
    "- All the Names of the colleges are NNP/Proper Nouns.\n",
    "- Henceforth can be differentiated from other things on the basis of that.\n",
    "- Plus they are bigger than the normal names of other things.\n",
    "    "
   ]
  },
  {
   "cell_type": "code",
   "execution_count": null,
   "metadata": {},
   "outputs": [],
   "source": []
  },
  {
   "cell_type": "code",
   "execution_count": 24,
   "metadata": {},
   "outputs": [
    {
     "data": {
      "text/plain": [
       "[['Computer', 'Science\\n\\nArizona', 'State', 'University', '-', '', ''],\n",
       " ['September', '2019\\n\\nBachelor', 'of', 'Engineering', 'in', 'Computer'],\n",
       " ['Science\\n\\nM', 'S', 'Ramaiah', 'Institute', 'of', 'Technology'],\n",
       " None,\n",
       " [':\\nProgramming', 'Languages:', 'C,', 'C++']]"
      ]
     },
     "execution_count": 24,
     "metadata": {},
     "output_type": "execute_result"
    }
   ],
   "source": [
    "outs"
   ]
  },
  {
   "cell_type": "code",
   "execution_count": 26,
   "metadata": {},
   "outputs": [],
   "source": [
    "# tokenize, clean of stopwords then do it again using NLTK"
   ]
  },
  {
   "cell_type": "code",
   "execution_count": null,
   "metadata": {},
   "outputs": [],
   "source": []
  }
 ],
 "metadata": {
  "kernelspec": {
   "display_name": "Python 3",
   "language": "python",
   "name": "python3"
  },
  "language_info": {
   "codemirror_mode": {
    "name": "ipython",
    "version": 3
   },
   "file_extension": ".py",
   "mimetype": "text/x-python",
   "name": "python",
   "nbconvert_exporter": "python",
   "pygments_lexer": "ipython3",
   "version": "3.8.2"
  }
 },
 "nbformat": 4,
 "nbformat_minor": 4
}

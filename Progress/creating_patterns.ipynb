{
 "cells": [
  {
   "cell_type": "markdown",
   "metadata": {},
   "source": [
    "# Spacy's Matcher Patterns\n",
    "### Creating Pattern for To Match College keywords and be able to extact it."
   ]
  },
  {
   "cell_type": "code",
   "execution_count": 1,
   "metadata": {},
   "outputs": [],
   "source": [
    "import spacy\n",
    "from spacy.matcher import Matcher, PhraseMatcher\n",
    "from spacy import displacy\n",
    "import pandas as pd"
   ]
  },
  {
   "cell_type": "code",
   "execution_count": 2,
   "metadata": {},
   "outputs": [],
   "source": [
    "nlp = spacy.load('en_core_web_md')"
   ]
  },
  {
   "cell_type": "code",
   "execution_count": 4,
   "metadata": {},
   "outputs": [],
   "source": [
    "matcher = Matcher(nlp.vocab)"
   ]
  },
  {
   "cell_type": "markdown",
   "metadata": {},
   "source": [
    "## Possible Patterns for Getting College Names\n",
    "\n",
    "[Link](http://education-india.in/Education/Colleges/) \n",
    "\n",
    "### Techinal Institutions\n",
    "\n",
    "- XYZ Institute of Technology\n",
    "- XYZ College of Engineering\n",
    "- XYZ Institue of Technology and Management\n",
    "- XYZ Institue of Information Technology\n",
    "- XYZ College of Engineering and Technology\n",
    "\n",
    "\n",
    "Provided this, all technical college follow a similar pattern they have Technology in the end or in the middle. For this, the whole phrase can be extracted and for checking, it should have a newline character at the end. \n",
    "\n",
    "'''\n",
    "NP + Set of Keywords as [College, Tech]\n",
    "'''"
   ]
  },
  {
   "cell_type": "code",
   "execution_count": null,
   "metadata": {},
   "outputs": [],
   "source": [
    "pattern_college = [[],[],[]]"
   ]
  }
 ],
 "metadata": {
  "kernelspec": {
   "display_name": "Python 3",
   "language": "python",
   "name": "python3"
  },
  "language_info": {
   "codemirror_mode": {
    "name": "ipython",
    "version": 3
   },
   "file_extension": ".py",
   "mimetype": "text/x-python",
   "name": "python",
   "nbconvert_exporter": "python",
   "pygments_lexer": "ipython3",
   "version": "3.8.2"
  }
 },
 "nbformat": 4,
 "nbformat_minor": 4
}

{
 "cells": [
  {
   "cell_type": "code",
   "execution_count": 1,
   "metadata": {},
   "outputs": [],
   "source": [
    "import os\n",
    "import pandas as pd\n",
    "import textract as tx\n",
    "import Similar\n",
    "import Cleaner"
   ]
  },
  {
   "cell_type": "markdown",
   "metadata": {},
   "source": [
    "# Testing the Compute.py file"
   ]
  },
  {
   "cell_type": "code",
   "execution_count": 2,
   "metadata": {},
   "outputs": [],
   "source": [
    "resume_dir = \"Data/Resumes/\"\n",
    "job_desc_dir = \"Data/JobDesc/\"\n",
    "resume_names = os.listdir(resume_dir)\n",
    "document = []"
   ]
  },
  {
   "cell_type": "code",
   "execution_count": 3,
   "metadata": {},
   "outputs": [
    {
     "data": {
      "text/plain": [
       "[]"
      ]
     },
     "execution_count": 3,
     "metadata": {},
     "output_type": "execute_result"
    }
   ],
   "source": [
    "document "
   ]
  },
  {
   "cell_type": "code",
   "execution_count": 4,
   "metadata": {},
   "outputs": [],
   "source": [
    "for res in resume_names:\n",
    "    temp = []\n",
    "    temp.append(res)\n",
    "    text = tx.process(resume_dir+res, encoding='ascii')\n",
    "    text = str(text, 'utf-8')\n",
    "    temp.append(text)\n",
    "    document.append(temp)"
   ]
  },
  {
   "cell_type": "code",
   "execution_count": 5,
   "metadata": {},
   "outputs": [],
   "source": [
    "df = pd.DataFrame(document, columns=['Name', 'Context'])"
   ]
  },
  {
   "cell_type": "code",
   "execution_count": 6,
   "metadata": {},
   "outputs": [
    {
     "data": {
      "text/html": [
       "<div>\n",
       "<style scoped>\n",
       "    .dataframe tbody tr th:only-of-type {\n",
       "        vertical-align: middle;\n",
       "    }\n",
       "\n",
       "    .dataframe tbody tr th {\n",
       "        vertical-align: top;\n",
       "    }\n",
       "\n",
       "    .dataframe thead th {\n",
       "        text-align: right;\n",
       "    }\n",
       "</style>\n",
       "<table border=\"1\" class=\"dataframe\">\n",
       "  <thead>\n",
       "    <tr style=\"text-align: right;\">\n",
       "      <th></th>\n",
       "      <th>Name</th>\n",
       "      <th>Context</th>\n",
       "    </tr>\n",
       "  </thead>\n",
       "  <tbody>\n",
       "    <tr>\n",
       "      <th>0</th>\n",
       "      <td>ALANKRIT NIRJHARPremium CV Featured Resume.docx</td>\n",
       "      <td>ALANKRIT NIRJHARPremium CV Featured Resume  \\n...</td>\n",
       "    </tr>\n",
       "    <tr>\n",
       "      <th>1</th>\n",
       "      <td>Amarpreet SinghPremium CV Featured Resume.docx</td>\n",
       "      <td>Amarpreet SinghPremium CV Featured Resume  \\n\\...</td>\n",
       "    </tr>\n",
       "    <tr>\n",
       "      <th>2</th>\n",
       "      <td>Shambhai MishraFeatured Resume.docx</td>\n",
       "      <td>Shambhai MishraFeatured Resume  \\n\\n \\n\\nA har...</td>\n",
       "    </tr>\n",
       "    <tr>\n",
       "      <th>3</th>\n",
       "      <td>Amruta B.pdf</td>\n",
       "      <td>Amruta B. ThoratFeatured Resume   \\n\\n  \\n\\nJr...</td>\n",
       "    </tr>\n",
       "    <tr>\n",
       "      <th>4</th>\n",
       "      <td>Dhavakumar AmarntharajanFeatured Resume.docx</td>\n",
       "      <td>Dhavakumar AmarntharajanFeatured Resume  \\n\\n ...</td>\n",
       "    </tr>\n",
       "    <tr>\n",
       "      <th>5</th>\n",
       "      <td>DIVYA PRAKASH SINGHFeatured Resume.docx</td>\n",
       "      <td>DIVYA PRAKASH SINGHFeatured Resume  \\n\\n \\n\\nM...</td>\n",
       "    </tr>\n",
       "    <tr>\n",
       "      <th>6</th>\n",
       "      <td>Abhishek SharmaFeatured Resume.docx</td>\n",
       "      <td>Abhishek SharmaFeatured Resume  \\n\\n \\n\\nDevel...</td>\n",
       "    </tr>\n",
       "    <tr>\n",
       "      <th>7</th>\n",
       "      <td>Manoj KumarFeatured Resume.docx</td>\n",
       "      <td>Manoj KumarFeatured Resume  \\n\\n \\n\\nAPPLICATI...</td>\n",
       "    </tr>\n",
       "    <tr>\n",
       "      <th>8</th>\n",
       "      <td>Seshadri Sastry Kunapuli.docx</td>\n",
       "      <td>Seshadri Sastry Kunapuli     \\n\\n \\n\\nManager ...</td>\n",
       "    </tr>\n",
       "    <tr>\n",
       "      <th>9</th>\n",
       "      <td>SNEHA SAHUFeatured Resume.docx</td>\n",
       "      <td>SNEHA SAHUFeatured Resume  \\n\\n \\n\\nMachine Le...</td>\n",
       "    </tr>\n",
       "    <tr>\n",
       "      <th>10</th>\n",
       "      <td>Bijjula SahithiFeatured Resume.docx</td>\n",
       "      <td>Bijjula SahithiFeatured Resume  \\n\\n \\n\\nProdu...</td>\n",
       "    </tr>\n",
       "    <tr>\n",
       "      <th>11</th>\n",
       "      <td>Prashant Bhat.pdf</td>\n",
       "      <td>Prashant Bhat      \\n\\n  \\n\\nStanford Machine ...</td>\n",
       "    </tr>\n",
       "    <tr>\n",
       "      <th>12</th>\n",
       "      <td>Suraj Chauhan.docx</td>\n",
       "      <td>Suraj Chauhan   \\n\\n \\n\\nSenior Web Developer ...</td>\n",
       "    </tr>\n",
       "    <tr>\n",
       "      <th>13</th>\n",
       "      <td>Nandagopal HFeatured Resume.pdf</td>\n",
       "      <td>Nandagopal HFeatured Resume   \\n\\n  \\n\\nMYSQL,...</td>\n",
       "    </tr>\n",
       "    <tr>\n",
       "      <th>14</th>\n",
       "      <td>AJAY CHINNIFeatured Resume.docx</td>\n",
       "      <td>AJAY CHINNIFeatured Resume  \\n\\n \\n\\nSeeking r...</td>\n",
       "    </tr>\n",
       "    <tr>\n",
       "      <th>15</th>\n",
       "      <td>Ashwani Kumar RajputPremium CV Featured Resume...</td>\n",
       "      <td>Ashwani Kumar RajputPremium CV Featured Resume...</td>\n",
       "    </tr>\n",
       "    <tr>\n",
       "      <th>16</th>\n",
       "      <td>RISHABH SHARMAFeatured Resume.docx</td>\n",
       "      <td>RISHABH SHARMAFeatured Resume  \\n\\n \\n\\nJunior...</td>\n",
       "    </tr>\n",
       "    <tr>\n",
       "      <th>17</th>\n",
       "      <td>NARENDRA HINGE.docx</td>\n",
       "      <td>NARENDRA HINGE\\n\\n\\n\\n \\n\\nSenior Web Develope...</td>\n",
       "    </tr>\n",
       "    <tr>\n",
       "      <th>18</th>\n",
       "      <td>Kaustav SenFeatured Resume.docx</td>\n",
       "      <td>Kaustav SenFeatured Resume  \\n\\n \\n\\nTech Lead...</td>\n",
       "    </tr>\n",
       "    <tr>\n",
       "      <th>19</th>\n",
       "      <td>khyati gandhi.docx</td>\n",
       "      <td>khyati gandhi   \\n\\n \\n\\nWeb Developer seeking...</td>\n",
       "    </tr>\n",
       "    <tr>\n",
       "      <th>20</th>\n",
       "      <td>Jithin J NairFeatured Resume.docx</td>\n",
       "      <td>Jithin J NairFeatured Resume  \\n\\n \\n\\nMachine...</td>\n",
       "    </tr>\n",
       "  </tbody>\n",
       "</table>\n",
       "</div>"
      ],
      "text/plain": [
       "                                                 Name  \\\n",
       "0     ALANKRIT NIRJHARPremium CV Featured Resume.docx   \n",
       "1      Amarpreet SinghPremium CV Featured Resume.docx   \n",
       "2                 Shambhai MishraFeatured Resume.docx   \n",
       "3                                        Amruta B.pdf   \n",
       "4        Dhavakumar AmarntharajanFeatured Resume.docx   \n",
       "5             DIVYA PRAKASH SINGHFeatured Resume.docx   \n",
       "6                 Abhishek SharmaFeatured Resume.docx   \n",
       "7                     Manoj KumarFeatured Resume.docx   \n",
       "8                       Seshadri Sastry Kunapuli.docx   \n",
       "9                      SNEHA SAHUFeatured Resume.docx   \n",
       "10                Bijjula SahithiFeatured Resume.docx   \n",
       "11                                  Prashant Bhat.pdf   \n",
       "12                                 Suraj Chauhan.docx   \n",
       "13                    Nandagopal HFeatured Resume.pdf   \n",
       "14                    AJAY CHINNIFeatured Resume.docx   \n",
       "15  Ashwani Kumar RajputPremium CV Featured Resume...   \n",
       "16                 RISHABH SHARMAFeatured Resume.docx   \n",
       "17                                NARENDRA HINGE.docx   \n",
       "18                    Kaustav SenFeatured Resume.docx   \n",
       "19                                 khyati gandhi.docx   \n",
       "20                  Jithin J NairFeatured Resume.docx   \n",
       "\n",
       "                                              Context  \n",
       "0   ALANKRIT NIRJHARPremium CV Featured Resume  \\n...  \n",
       "1   Amarpreet SinghPremium CV Featured Resume  \\n\\...  \n",
       "2   Shambhai MishraFeatured Resume  \\n\\n \\n\\nA har...  \n",
       "3   Amruta B. ThoratFeatured Resume   \\n\\n  \\n\\nJr...  \n",
       "4   Dhavakumar AmarntharajanFeatured Resume  \\n\\n ...  \n",
       "5   DIVYA PRAKASH SINGHFeatured Resume  \\n\\n \\n\\nM...  \n",
       "6   Abhishek SharmaFeatured Resume  \\n\\n \\n\\nDevel...  \n",
       "7   Manoj KumarFeatured Resume  \\n\\n \\n\\nAPPLICATI...  \n",
       "8   Seshadri Sastry Kunapuli     \\n\\n \\n\\nManager ...  \n",
       "9   SNEHA SAHUFeatured Resume  \\n\\n \\n\\nMachine Le...  \n",
       "10  Bijjula SahithiFeatured Resume  \\n\\n \\n\\nProdu...  \n",
       "11  Prashant Bhat      \\n\\n  \\n\\nStanford Machine ...  \n",
       "12  Suraj Chauhan   \\n\\n \\n\\nSenior Web Developer ...  \n",
       "13  Nandagopal HFeatured Resume   \\n\\n  \\n\\nMYSQL,...  \n",
       "14  AJAY CHINNIFeatured Resume  \\n\\n \\n\\nSeeking r...  \n",
       "15  Ashwani Kumar RajputPremium CV Featured Resume...  \n",
       "16  RISHABH SHARMAFeatured Resume  \\n\\n \\n\\nJunior...  \n",
       "17  NARENDRA HINGE\\n\\n\\n\\n \\n\\nSenior Web Develope...  \n",
       "18  Kaustav SenFeatured Resume  \\n\\n \\n\\nTech Lead...  \n",
       "19  khyati gandhi   \\n\\n \\n\\nWeb Developer seeking...  \n",
       "20  Jithin J NairFeatured Resume  \\n\\n \\n\\nMachine...  "
      ]
     },
     "execution_count": 6,
     "metadata": {},
     "output_type": "execute_result"
    }
   ],
   "source": [
    "df"
   ]
  },
  {
   "cell_type": "code",
   "execution_count": 12,
   "metadata": {},
   "outputs": [],
   "source": [
    "def get_job_description():\n",
    "    job_docs = os.listdir(job_desc_dir)\n",
    "    job_desc = tx.process(\n",
    "        job_desc_dir+job_docs[1], extension='docx', encoding='ascii')\n",
    "    job_desc = str(job_desc, 'utf-8')\n",
    "    job_des = Cleaner.Cleaner(job_desc)"
   ]
  },
  {
   "cell_type": "code",
   "execution_count": 8,
   "metadata": {},
   "outputs": [],
   "source": [
    "scores = []\n",
    "def compute_score(x=2, y=2):\n",
    "    for text in df['Context']:\n",
    "        raw = Cleaner.Cleaner(text)\n",
    "        score = Similar.match(raw[2], job_des[2])\n",
    "        scores.append(score)"
   ]
  },
  {
   "cell_type": "code",
   "execution_count": 9,
   "metadata": {},
   "outputs": [
    {
     "data": {
      "text/plain": [
       "[7.188133725864406,\n",
       " 17.082715886282017,\n",
       " 9.476762357802984,\n",
       " 17.291130127664918,\n",
       " 18.012687466241466,\n",
       " 9.452611578580793,\n",
       " 8.42476835081202,\n",
       " 11.586667849627627,\n",
       " 12.456231619031753,\n",
       " 17.0072580417408,\n",
       " 14.108484885761968,\n",
       " 9.982352544008108,\n",
       " 16.236249502169258,\n",
       " 17.05720171632391,\n",
       " 11.320461075067941,\n",
       " 15.613431194443613,\n",
       " 9.533217549290569,\n",
       " 14.925508576697014,\n",
       " 17.989739486512008,\n",
       " 24.064673772279484,\n",
       " 11.435471298914607]"
      ]
     },
     "execution_count": 9,
     "metadata": {},
     "output_type": "execute_result"
    }
   ],
   "source": [
    "scores"
   ]
  },
  {
   "cell_type": "code",
   "execution_count": 11,
   "metadata": {},
   "outputs": [],
   "source": [
    "df['Scores'] = scores\n",
    "df2 = df.sort_values(by=['Scores'], ascending=False)\n",
    "# print(df2.iloc[0, 1])"
   ]
  },
  {
   "cell_type": "code",
   "execution_count": 17,
   "metadata": {},
   "outputs": [],
   "source": [
    "# import matplotlib.pyplot as plt"
   ]
  },
  {
   "cell_type": "code",
   "execution_count": 16,
   "metadata": {},
   "outputs": [],
   "source": [
    "# plt.text(15, 30)"
   ]
  },
  {
   "cell_type": "code",
   "execution_count": null,
   "metadata": {},
   "outputs": [],
   "source": []
  }
 ],
 "metadata": {
  "kernelspec": {
   "display_name": "Python 3",
   "language": "python",
   "name": "python3"
  },
  "language_info": {
   "codemirror_mode": {
    "name": "ipython",
    "version": 3
   },
   "file_extension": ".py",
   "mimetype": "text/x-python",
   "name": "python",
   "nbconvert_exporter": "python",
   "pygments_lexer": "ipython3",
   "version": "3.8.2"
  }
 },
 "nbformat": 4,
 "nbformat_minor": 4
}
